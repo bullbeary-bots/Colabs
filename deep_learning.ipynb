{
 "cells": [
  {
   "cell_type": "markdown",
   "metadata": {},
   "source": [
    "### Imports"
   ]
  },
  {
   "cell_type": "code",
   "execution_count": 13,
   "metadata": {},
   "outputs": [],
   "source": [
    "# Data management\n",
    "import numpy as np\n",
    "import pandas as pd\n",
    "\n",
    "# Data preprocessing\n",
    "from sklearn.preprocessing import StandardScaler\n",
    "\n",
    "# Deep learning\n",
    "import torch\n",
    "from torch import nn\n",
    "from torch.utils.data import DataLoader, Dataset\n",
    "\n",
    "# Visualization\n",
    "import matplotlib.pyplot as plt"
   ]
  },
  {
   "cell_type": "markdown",
   "metadata": {},
   "source": [
    "### Data Extraction and Feature Engineering"
   ]
  },
  {
   "cell_type": "code",
   "execution_count": 6,
   "metadata": {},
   "outputs": [
    {
     "data": {
      "application/vnd.microsoft.datawrangler.viewer.v0+json": {
       "columns": [
        {
         "name": "index",
         "rawType": "int64",
         "type": "integer"
        },
        {
         "name": "Date",
         "rawType": "object",
         "type": "string"
        },
        {
         "name": "Asset1",
         "rawType": "float64",
         "type": "float"
        },
        {
         "name": "Asset2",
         "rawType": "float64",
         "type": "float"
        },
        {
         "name": "Spread",
         "rawType": "float64",
         "type": "float"
        },
        {
         "name": "ZScore",
         "rawType": "float64",
         "type": "float"
        }
       ],
       "conversionMethod": "pd.DataFrame",
       "ref": "2858a09f-14ee-4956-b60a-90ceffdcaa8f",
       "rows": [
        [
         "0",
         "2017-05-25",
         "53.63029098510742",
         "52.34438705444336",
         "-1.6733987928927831",
         "1.2042618063300656"
        ],
        [
         "1",
         "2017-05-26",
         "53.6204833984375",
         "52.29515075683594",
         "-1.6311864958287288",
         "1.2387593234132352"
        ],
        [
         "2",
         "2017-05-30",
         "53.53224563598633",
         "52.25576400756836",
         "-1.677810769509989",
         "1.1562563075610943"
        ],
        [
         "3",
         "2017-05-31",
         "53.57146072387695",
         "52.37391662597656",
         "-1.7634280872048862",
         "1.0196300630802413"
        ],
        [
         "4",
         "2017-06-01",
         "54.06167221069336",
         "52.85640335083008",
         "-1.782980830229377",
         "0.973343377458352"
        ],
        [
         "5",
         "2017-06-02",
         "54.21855545043945",
         "53.30934524536133",
         "-2.104646665794114",
         "0.518782427980503"
        ],
        [
         "6",
         "2017-06-05",
         "54.08129501342773",
         "53.05333709716797",
         "-1.971425471344567",
         "0.6868197640574883"
        ],
        [
         "7",
         "2017-06-06",
         "53.9636344909668",
         "52.91548156738281",
         "-1.9434367679297535",
         "0.7096493251194718"
        ],
        [
         "8",
         "2017-06-07",
         "54.11070251464844",
         "53.00410079956055",
         "-1.8899980863898875",
         "0.7678471790463843"
        ],
        [
         "9",
         "2017-06-08",
         "54.385231018066406",
         "53.31919097900391",
         "-1.9483734627691192",
         "0.6707862413136133"
        ],
        [
         "10",
         "2017-06-09",
         "53.94403839111328",
         "53.181339263916016",
         "-2.2439208942085926",
         "0.2449012972252335"
        ],
        [
         "11",
         "2017-06-12",
         "53.77735137939453",
         "52.89578628540039",
         "-2.1089111199360104",
         "0.4223164418451757"
        ],
        [
         "12",
         "2017-06-13",
         "54.15973281860352",
         "53.40781021118164",
         "-2.26750100437377",
         "0.1862428337526155"
        ],
        [
         "13",
         "2017-06-14",
         "54.01266479492188",
         "53.27981185913086",
         "-2.279334257867937",
         "0.1626160903048932"
        ],
        [
         "14",
         "2017-06-15",
         "53.77735137939453",
         "53.16164779663086",
         "-2.38980317672344",
         "0.0037054407847807"
        ],
        [
         "15",
         "2017-06-16",
         "53.69892120361328",
         "53.11330032348633",
         "-2.417152543141995",
         "-0.0447317496345277"
        ],
        [
         "16",
         "2017-06-19",
         "54.39503479003906",
         "53.754642486572266",
         "-2.398639555839964",
         "-0.0321067720532959"
        ],
        [
         "17",
         "2017-06-20",
         "54.01266479492188",
         "53.350093841552734",
         "-2.353589649354319",
         "0.0197540908088381"
        ],
        [
         "18",
         "2017-06-21",
         "54.14011764526367",
         "53.22183990478516",
         "-2.090631994563793",
         "0.3917563800219217"
        ],
        [
         "19",
         "2017-06-22",
         "54.207855224609375",
         "53.02449798583984",
         "-1.814395722622912",
         "0.7819118856654074"
        ],
        [
         "20",
         "2017-06-23",
         "54.256935119628906",
         "53.2317008972168",
         "-1.9842330062489424",
         "0.5207992076800717"
        ],
        [
         "21",
         "2017-06-26",
         "54.22748947143555",
         "53.27116775512695",
         "-2.055376780816488",
         "0.4037269501009864"
        ],
        [
         "22",
         "2017-06-27",
         "53.58940505981445",
         "52.501556396484375",
         "-1.8803396674166637",
         "0.6491029429192384"
        ],
        [
         "23",
         "2017-06-28",
         "54.256935119628906",
         "53.13302993774414",
         "-1.8799836599513569",
         "0.6342937168756148"
        ],
        [
         "24",
         "2017-06-29",
         "53.65811538696289",
         "52.52128601074219",
         "-1.8324743730932056",
         "0.6890176618872721"
        ],
        [
         "25",
         "2017-06-30",
         "53.93297576904297",
         "52.76795959472656",
         "-1.8182333263949813",
         "0.6949266961720378"
        ],
        [
         "26",
         "2017-07-03",
         "53.825008392333984",
         "52.89622497558594",
         "-2.061717598639028",
         "0.3109968387472714"
        ],
        [
         "27",
         "2017-07-05",
         "53.991886138916016",
         "53.18236541748047",
         "-2.1971573138130367",
         "0.0831440580797973"
        ],
        [
         "28",
         "2017-07-06",
         "53.579586029052734",
         "52.758094787597656",
         "-2.161200549972719",
         "0.1190107865797384"
        ],
        [
         "29",
         "2017-07-07",
         "54.09005355834961",
         "53.350093841552734",
         "-2.276200885926592",
         "-0.0880536527299906"
        ],
        [
         "30",
         "2017-07-10",
         "54.24711608886719",
         "53.468509674072266",
         "-2.244248855980011",
         "-0.0551175010963317"
        ],
        [
         "31",
         "2017-07-11",
         "54.22748947143555",
         "53.39942932128906",
         "-2.190889645989444",
         "0.01371281031198"
        ],
        [
         "32",
         "2017-07-12",
         "54.76741027832031",
         "54.33678817749024",
         "-2.6413215074832976",
         "-0.8038968868980871"
        ],
        [
         "33",
         "2017-07-13",
         "54.73795318603516",
         "54.405860900878906",
         "-2.743756366466428",
         "-1.019797664239092"
        ],
        [
         "34",
         "2017-07-14",
         "54.944114685058594",
         "54.77092742919922",
         "-2.9233005212232044",
         "-1.3949437921276475"
        ],
        [
         "35",
         "2017-07-17",
         "54.85575866699219",
         "54.93866729736328",
         "-3.1888796219230784",
         "-1.9363218541035128"
        ],
        [
         "36",
         "2017-07-18",
         "55.01283264160156",
         "54.88933563232422",
         "-2.9796850045270205",
         "-1.54984383582339"
        ],
        [
         "37",
         "2017-07-19",
         "55.30733489990234",
         "55.42213821411133",
         "-3.2481074522778144",
         "-2.049613231905313"
        ],
        [
         "38",
         "2017-07-20",
         "55.26805114746094",
         "55.01759719848633",
         "-2.8599793638406013",
         "-1.3562745855859737"
        ],
        [
         "39",
         "2017-07-21",
         "55.287696838378906",
         "55.047210693359375",
         "-2.871621373970654",
         "-1.3873659234498303"
        ],
        [
         "40",
         "2017-07-24",
         "55.385860443115234",
         "55.1952018737793",
         "-2.929815667232269",
         "-1.545187519461276"
        ],
        [
         "41",
         "2017-07-25",
         "55.30733489990234",
         "55.12613677978516",
         "-2.935371504471398",
         "-1.580991529854328"
        ],
        [
         "42",
         "2017-07-26",
         "55.356407165527344",
         "55.461612701416016",
         "-3.240741373751213",
         "-2.1791950535481117"
        ],
        [
         "43",
         "2017-07-27",
         "54.93428802490234",
         "55.214942932128906",
         "-3.4022452093564794",
         "-2.453536769570274"
        ],
        [
         "44",
         "2017-07-28",
         "54.96374130249024",
         "55.214942932128906",
         "-3.3727919317685746",
         "-2.3578716171620475"
        ],
        [
         "45",
         "2017-07-31",
         "54.85575866699219",
         "55.11627197265625",
         "-3.376525220969043",
         "-2.314772949734288"
        ],
        [
         "46",
         "2017-08-01",
         "54.90484237670898",
         "55.066932678222656",
         "-3.2753128077413507",
         "-2.0644791664214224"
        ],
        [
         "47",
         "2017-08-02",
         "54.74777221679688",
         "54.54399108886719",
         "-2.8798767476522684",
         "-1.3031128455325365"
        ],
        [
         "48",
         "2017-08-03",
         "54.63978958129883",
         "54.366397857666016",
         "-2.800225875190684",
         "-1.1392433667978268"
        ],
        [
         "49",
         "2017-08-04",
         "54.72813415527344",
         "54.465065002441406",
         "-2.816126617151553",
         "-1.1517209754249205"
        ]
       ],
       "shape": {
        "columns": 5,
        "rows": 1264
       }
      },
      "text/html": [
       "<div>\n",
       "<style scoped>\n",
       "    .dataframe tbody tr th:only-of-type {\n",
       "        vertical-align: middle;\n",
       "    }\n",
       "\n",
       "    .dataframe tbody tr th {\n",
       "        vertical-align: top;\n",
       "    }\n",
       "\n",
       "    .dataframe thead th {\n",
       "        text-align: right;\n",
       "    }\n",
       "</style>\n",
       "<table border=\"1\" class=\"dataframe\">\n",
       "  <thead>\n",
       "    <tr style=\"text-align: right;\">\n",
       "      <th></th>\n",
       "      <th>Date</th>\n",
       "      <th>Asset1</th>\n",
       "      <th>Asset2</th>\n",
       "      <th>Spread</th>\n",
       "      <th>ZScore</th>\n",
       "    </tr>\n",
       "  </thead>\n",
       "  <tbody>\n",
       "    <tr>\n",
       "      <th>0</th>\n",
       "      <td>2017-05-25</td>\n",
       "      <td>53.630291</td>\n",
       "      <td>52.344387</td>\n",
       "      <td>-1.673399</td>\n",
       "      <td>1.204262</td>\n",
       "    </tr>\n",
       "    <tr>\n",
       "      <th>1</th>\n",
       "      <td>2017-05-26</td>\n",
       "      <td>53.620483</td>\n",
       "      <td>52.295151</td>\n",
       "      <td>-1.631186</td>\n",
       "      <td>1.238759</td>\n",
       "    </tr>\n",
       "    <tr>\n",
       "      <th>2</th>\n",
       "      <td>2017-05-30</td>\n",
       "      <td>53.532246</td>\n",
       "      <td>52.255764</td>\n",
       "      <td>-1.677811</td>\n",
       "      <td>1.156256</td>\n",
       "    </tr>\n",
       "    <tr>\n",
       "      <th>3</th>\n",
       "      <td>2017-05-31</td>\n",
       "      <td>53.571461</td>\n",
       "      <td>52.373917</td>\n",
       "      <td>-1.763428</td>\n",
       "      <td>1.019630</td>\n",
       "    </tr>\n",
       "    <tr>\n",
       "      <th>4</th>\n",
       "      <td>2017-06-01</td>\n",
       "      <td>54.061672</td>\n",
       "      <td>52.856403</td>\n",
       "      <td>-1.782981</td>\n",
       "      <td>0.973343</td>\n",
       "    </tr>\n",
       "    <tr>\n",
       "      <th>...</th>\n",
       "      <td>...</td>\n",
       "      <td>...</td>\n",
       "      <td>...</td>\n",
       "      <td>...</td>\n",
       "      <td>...</td>\n",
       "    </tr>\n",
       "    <tr>\n",
       "      <th>1259</th>\n",
       "      <td>2022-05-25</td>\n",
       "      <td>92.930000</td>\n",
       "      <td>86.949997</td>\n",
       "      <td>1.064264</td>\n",
       "      <td>0.255584</td>\n",
       "    </tr>\n",
       "    <tr>\n",
       "      <th>1260</th>\n",
       "      <td>2022-05-26</td>\n",
       "      <td>95.080002</td>\n",
       "      <td>89.040001</td>\n",
       "      <td>1.006103</td>\n",
       "      <td>0.216648</td>\n",
       "    </tr>\n",
       "    <tr>\n",
       "      <th>1261</th>\n",
       "      <td>2022-05-27</td>\n",
       "      <td>97.660004</td>\n",
       "      <td>91.400002</td>\n",
       "      <td>1.092681</td>\n",
       "      <td>0.238969</td>\n",
       "    </tr>\n",
       "    <tr>\n",
       "      <th>1262</th>\n",
       "      <td>2022-05-31</td>\n",
       "      <td>96.480003</td>\n",
       "      <td>90.540001</td>\n",
       "      <td>0.821301</td>\n",
       "      <td>0.083033</td>\n",
       "    </tr>\n",
       "    <tr>\n",
       "      <th>1263</th>\n",
       "      <td>2022-06-01</td>\n",
       "      <td>95.739998</td>\n",
       "      <td>90.440002</td>\n",
       "      <td>0.186948</td>\n",
       "      <td>-0.267007</td>\n",
       "    </tr>\n",
       "  </tbody>\n",
       "</table>\n",
       "<p>1264 rows × 5 columns</p>\n",
       "</div>"
      ],
      "text/plain": [
       "            Date     Asset1     Asset2    Spread    ZScore\n",
       "0     2017-05-25  53.630291  52.344387 -1.673399  1.204262\n",
       "1     2017-05-26  53.620483  52.295151 -1.631186  1.238759\n",
       "2     2017-05-30  53.532246  52.255764 -1.677811  1.156256\n",
       "3     2017-05-31  53.571461  52.373917 -1.763428  1.019630\n",
       "4     2017-06-01  54.061672  52.856403 -1.782981  0.973343\n",
       "...          ...        ...        ...       ...       ...\n",
       "1259  2022-05-25  92.930000  86.949997  1.064264  0.255584\n",
       "1260  2022-05-26  95.080002  89.040001  1.006103  0.216648\n",
       "1261  2022-05-27  97.660004  91.400002  1.092681  0.238969\n",
       "1262  2022-05-31  96.480003  90.540001  0.821301  0.083033\n",
       "1263  2022-06-01  95.739998  90.440002  0.186948 -0.267007\n",
       "\n",
       "[1264 rows x 5 columns]"
      ]
     },
     "execution_count": 6,
     "metadata": {},
     "output_type": "execute_result"
    }
   ],
   "source": [
    "# Load data from saved file\n",
    "df = pd.read_csv('pair_trade.csv')\n",
    "df"
   ]
  },
  {
   "cell_type": "code",
   "execution_count": 7,
   "metadata": {},
   "outputs": [
    {
     "name": "stdout",
     "output_type": "stream",
     "text": [
      "Length:  1243\n"
     ]
    },
    {
     "data": {
      "application/vnd.microsoft.datawrangler.viewer.v0+json": {
       "columns": [
        {
         "name": "index",
         "rawType": "int64",
         "type": "integer"
        },
        {
         "name": "Asset1",
         "rawType": "float64",
         "type": "float"
        },
        {
         "name": "Asset2",
         "rawType": "float64",
         "type": "float"
        },
        {
         "name": "Spread",
         "rawType": "float64",
         "type": "float"
        },
        {
         "name": "ZScore",
         "rawType": "float64",
         "type": "float"
        },
        {
         "name": "lrets_a1",
         "rawType": "float64",
         "type": "float"
        },
        {
         "name": "lrets_a2",
         "rawType": "float64",
         "type": "float"
        },
        {
         "name": "lrets_a1_roll",
         "rawType": "float64",
         "type": "float"
        },
        {
         "name": "lrets_a2_roll",
         "rawType": "float64",
         "type": "float"
        },
        {
         "name": "a1_prod_rets",
         "rawType": "float64",
         "type": "float"
        },
        {
         "name": "a2_prod_rets",
         "rawType": "float64",
         "type": "float"
        }
       ],
       "conversionMethod": "pd.DataFrame",
       "ref": "3c627aab-0e87-4fa8-9b90-c5badee6dfb5",
       "rows": [
        [
         "21",
         "54.22748947143555",
         "53.27116775512695",
         "-2.055376780816488",
         "0.4037269501009864",
         "-0.0005428548665390951",
         "0.0007411417216480026",
         "0.0005273298533460308",
         "0.0008357395310117756",
         "0.011073926920266647",
         "0.017550530151247284"
        ],
        [
         "22",
         "53.58940505981445",
         "52.501556396484375",
         "-1.8803396674166637",
         "0.6491029429192384",
         "-0.011836583946594996",
         "-0.01455242732350126",
         "-2.76079184401258e-05",
         "0.00018757941847199767",
         "-0.0007626570263283491",
         "0.0029981028277460235"
        ],
        [
         "23",
         "54.256935119628906",
         "53.13302993774414",
         "-1.8799836599513569",
         "0.6342937168756148",
         "0.012379438813133916",
         "0.011955952786128687",
         "0.0006403155262310971",
         "0.0007927888998436628",
         "0.011616781786805567",
         "0.01495405561387471"
        ],
        [
         "24",
         "53.65811538696289",
         "52.52128601074219",
         "-1.8324743730932056",
         "0.6890176618872721",
         "-0.011098097552037856",
         "-0.011580232342124597",
         "7.696409098744953e-05",
         "0.00013380200793665413",
         "0.0005186842347677106",
         "0.0033738232717501135"
        ],
        [
         "25",
         "53.93297576904297",
         "52.76795959472656",
         "-1.8182333263949813",
         "0.6949266961720378",
         "0.005109363183810206",
         "0.004685645411954322",
         "-0.00011349460365019116",
         "-7.974691255621826e-05",
         "0.005628047418577917",
         "0.008059468683704435"
        ]
       ],
       "shape": {
        "columns": 10,
        "rows": 5
       }
      },
      "text/html": [
       "<div>\n",
       "<style scoped>\n",
       "    .dataframe tbody tr th:only-of-type {\n",
       "        vertical-align: middle;\n",
       "    }\n",
       "\n",
       "    .dataframe tbody tr th {\n",
       "        vertical-align: top;\n",
       "    }\n",
       "\n",
       "    .dataframe thead th {\n",
       "        text-align: right;\n",
       "    }\n",
       "</style>\n",
       "<table border=\"1\" class=\"dataframe\">\n",
       "  <thead>\n",
       "    <tr style=\"text-align: right;\">\n",
       "      <th></th>\n",
       "      <th>Asset1</th>\n",
       "      <th>Asset2</th>\n",
       "      <th>Spread</th>\n",
       "      <th>ZScore</th>\n",
       "      <th>lrets_a1</th>\n",
       "      <th>lrets_a2</th>\n",
       "      <th>lrets_a1_roll</th>\n",
       "      <th>lrets_a2_roll</th>\n",
       "      <th>a1_prod_rets</th>\n",
       "      <th>a2_prod_rets</th>\n",
       "    </tr>\n",
       "  </thead>\n",
       "  <tbody>\n",
       "    <tr>\n",
       "      <th>21</th>\n",
       "      <td>54.227489</td>\n",
       "      <td>53.271168</td>\n",
       "      <td>-2.055377</td>\n",
       "      <td>0.403727</td>\n",
       "      <td>-0.000543</td>\n",
       "      <td>0.000741</td>\n",
       "      <td>0.000527</td>\n",
       "      <td>0.000836</td>\n",
       "      <td>0.011074</td>\n",
       "      <td>0.017551</td>\n",
       "    </tr>\n",
       "    <tr>\n",
       "      <th>22</th>\n",
       "      <td>53.589405</td>\n",
       "      <td>52.501556</td>\n",
       "      <td>-1.880340</td>\n",
       "      <td>0.649103</td>\n",
       "      <td>-0.011837</td>\n",
       "      <td>-0.014552</td>\n",
       "      <td>-0.000028</td>\n",
       "      <td>0.000188</td>\n",
       "      <td>-0.000763</td>\n",
       "      <td>0.002998</td>\n",
       "    </tr>\n",
       "    <tr>\n",
       "      <th>23</th>\n",
       "      <td>54.256935</td>\n",
       "      <td>53.133030</td>\n",
       "      <td>-1.879984</td>\n",
       "      <td>0.634294</td>\n",
       "      <td>0.012379</td>\n",
       "      <td>0.011956</td>\n",
       "      <td>0.000640</td>\n",
       "      <td>0.000793</td>\n",
       "      <td>0.011617</td>\n",
       "      <td>0.014954</td>\n",
       "    </tr>\n",
       "    <tr>\n",
       "      <th>24</th>\n",
       "      <td>53.658115</td>\n",
       "      <td>52.521286</td>\n",
       "      <td>-1.832474</td>\n",
       "      <td>0.689018</td>\n",
       "      <td>-0.011098</td>\n",
       "      <td>-0.011580</td>\n",
       "      <td>0.000077</td>\n",
       "      <td>0.000134</td>\n",
       "      <td>0.000519</td>\n",
       "      <td>0.003374</td>\n",
       "    </tr>\n",
       "    <tr>\n",
       "      <th>25</th>\n",
       "      <td>53.932976</td>\n",
       "      <td>52.767960</td>\n",
       "      <td>-1.818233</td>\n",
       "      <td>0.694927</td>\n",
       "      <td>0.005109</td>\n",
       "      <td>0.004686</td>\n",
       "      <td>-0.000113</td>\n",
       "      <td>-0.000080</td>\n",
       "      <td>0.005628</td>\n",
       "      <td>0.008059</td>\n",
       "    </tr>\n",
       "  </tbody>\n",
       "</table>\n",
       "</div>"
      ],
      "text/plain": [
       "       Asset1     Asset2    Spread    ZScore  lrets_a1  lrets_a2  \\\n",
       "21  54.227489  53.271168 -2.055377  0.403727 -0.000543  0.000741   \n",
       "22  53.589405  52.501556 -1.880340  0.649103 -0.011837 -0.014552   \n",
       "23  54.256935  53.133030 -1.879984  0.634294  0.012379  0.011956   \n",
       "24  53.658115  52.521286 -1.832474  0.689018 -0.011098 -0.011580   \n",
       "25  53.932976  52.767960 -1.818233  0.694927  0.005109  0.004686   \n",
       "\n",
       "    lrets_a1_roll  lrets_a2_roll  a1_prod_rets  a2_prod_rets  \n",
       "21       0.000527       0.000836      0.011074      0.017551  \n",
       "22      -0.000028       0.000188     -0.000763      0.002998  \n",
       "23       0.000640       0.000793      0.011617      0.014954  \n",
       "24       0.000077       0.000134      0.000519      0.003374  \n",
       "25      -0.000113      -0.000080      0.005628      0.008059  "
      ]
     },
     "execution_count": 7,
     "metadata": {},
     "output_type": "execute_result"
    }
   ],
   "source": [
    "df.drop(columns=['Date'], inplace=True)\n",
    "df['lrets_a1'] = np.log(df.Asset1 / df.Asset1.shift(1))\n",
    "df['lrets_a2'] = np.log(df.Asset2 / df.Asset2.shift(1))\n",
    "df['lrets_a1_roll'] = df.lrets_a1.rolling(window=21).mean()\n",
    "df['lrets_a2_roll'] = df.lrets_a2.rolling(window=21).mean()\n",
    "df['a1_prod_rets'] = df.lrets_a1.cumsum()\n",
    "df['a2_prod_rets'] = df.lrets_a2.cumsum()\n",
    "\n",
    "df.dropna(inplace=True)\n",
    "print('Length: ', len(df))\n",
    "df.head()"
   ]
  },
  {
   "cell_type": "code",
   "execution_count": 9,
   "metadata": {},
   "outputs": [
    {
     "data": {
      "text/plain": [
       "[<matplotlib.lines.Line2D at 0x1c87c082720>]"
      ]
     },
     "execution_count": 9,
     "metadata": {},
     "output_type": "execute_result"
    },
    {
     "data": {
      "image/png": "[encoded data removed]",
      "text/plain": [
       "<Figure size 1500x500 with 3 Axes>"
      ]
     },
     "metadata": {},
     "output_type": "display_data"
    }
   ],
   "source": [
    "# Visualize data\n",
    "fig = plt.figure(figsize=(15, 5))\n",
    "plt.subplot(1, 3, 1)\n",
    "plt.plot(df.a1_prod_rets, label='Asset 1')\n",
    "plt.plot(df.a2_prod_rets, label='Asset 2')\n",
    "\n",
    "plt.subplot(1, 3, 2)\n",
    "plt.plot(df.Spread.values, label='Asset 1')\n",
    "\n",
    "plt.subplot(1, 3, 3)\n",
    "plt.plot(df.ZScore.values, label='Asset 1')"
   ]
  },
  {
   "cell_type": "code",
   "execution_count": 10,
   "metadata": {},
   "outputs": [
    {
     "data": {
      "application/vnd.microsoft.datawrangler.viewer.v0+json": {
       "columns": [
        {
         "name": "index",
         "rawType": "int64",
         "type": "integer"
        },
        {
         "name": "Asset1",
         "rawType": "float64",
         "type": "float"
        },
        {
         "name": "Asset2",
         "rawType": "float64",
         "type": "float"
        },
        {
         "name": "Spread",
         "rawType": "float64",
         "type": "float"
        },
        {
         "name": "ZScore",
         "rawType": "float64",
         "type": "float"
        },
        {
         "name": "lrets_a1",
         "rawType": "float64",
         "type": "float"
        },
        {
         "name": "lrets_a2",
         "rawType": "float64",
         "type": "float"
        },
        {
         "name": "lrets_a1_roll",
         "rawType": "float64",
         "type": "float"
        },
        {
         "name": "lrets_a2_roll",
         "rawType": "float64",
         "type": "float"
        },
        {
         "name": "a1_prod_rets",
         "rawType": "float64",
         "type": "float"
        },
        {
         "name": "a2_prod_rets",
         "rawType": "float64",
         "type": "float"
        },
        {
         "name": "Target",
         "rawType": "int64",
         "type": "integer"
        }
       ],
       "conversionMethod": "pd.DataFrame",
       "ref": "05dfa2a9-74a1-4fb9-b534-fe00dbf81aca",
       "rows": [
        [
         "21",
         "54.22748947143555",
         "53.27116775512695",
         "-2.055376780816488",
         "0.4037269501009864",
         "-0.0005428548665390951",
         "0.0007411417216480026",
         "0.0005273298533460308",
         "0.0008357395310117756",
         "0.011073926920266647",
         "0.017550530151247284",
         "0"
        ],
        [
         "22",
         "53.58940505981445",
         "52.501556396484375",
         "-1.8803396674166637",
         "0.6491029429192384",
         "-0.011836583946594996",
         "-0.01455242732350126",
         "-2.76079184401258e-05",
         "0.00018757941847199767",
         "-0.0007626570263283491",
         "0.0029981028277460235",
         "0"
        ],
        [
         "23",
         "54.256935119628906",
         "53.13302993774414",
         "-1.8799836599513569",
         "0.6342937168756148",
         "0.012379438813133916",
         "0.011955952786128687",
         "0.0006403155262310971",
         "0.0007927888998436628",
         "0.011616781786805567",
         "0.01495405561387471",
         "0"
        ],
        [
         "24",
         "53.65811538696289",
         "52.52128601074219",
         "-1.8324743730932056",
         "0.6890176618872721",
         "-0.011098097552037856",
         "-0.011580232342124597",
         "7.696409098744953e-05",
         "0.00013380200793665413",
         "0.0005186842347677106",
         "0.0033738232717501135",
         "0"
        ],
        [
         "25",
         "53.93297576904297",
         "52.76795959472656",
         "-1.8182333263949813",
         "0.6949266961720378",
         "0.005109363183810206",
         "0.004685645411954322",
         "-0.00011349460365019116",
         "-7.974691255621826e-05",
         "0.005628047418577917",
         "0.008059468683704435",
         "0"
        ]
       ],
       "shape": {
        "columns": 11,
        "rows": 5
       }
      },
      "text/html": [
       "<div>\n",
       "<style scoped>\n",
       "    .dataframe tbody tr th:only-of-type {\n",
       "        vertical-align: middle;\n",
       "    }\n",
       "\n",
       "    .dataframe tbody tr th {\n",
       "        vertical-align: top;\n",
       "    }\n",
       "\n",
       "    .dataframe thead th {\n",
       "        text-align: right;\n",
       "    }\n",
       "</style>\n",
       "<table border=\"1\" class=\"dataframe\">\n",
       "  <thead>\n",
       "    <tr style=\"text-align: right;\">\n",
       "      <th></th>\n",
       "      <th>Asset1</th>\n",
       "      <th>Asset2</th>\n",
       "      <th>Spread</th>\n",
       "      <th>ZScore</th>\n",
       "      <th>lrets_a1</th>\n",
       "      <th>lrets_a2</th>\n",
       "      <th>lrets_a1_roll</th>\n",
       "      <th>lrets_a2_roll</th>\n",
       "      <th>a1_prod_rets</th>\n",
       "      <th>a2_prod_rets</th>\n",
       "      <th>Target</th>\n",
       "    </tr>\n",
       "  </thead>\n",
       "  <tbody>\n",
       "    <tr>\n",
       "      <th>21</th>\n",
       "      <td>54.227489</td>\n",
       "      <td>53.271168</td>\n",
       "      <td>-2.055377</td>\n",
       "      <td>0.403727</td>\n",
       "      <td>-0.000543</td>\n",
       "      <td>0.000741</td>\n",
       "      <td>0.000527</td>\n",
       "      <td>0.000836</td>\n",
       "      <td>0.011074</td>\n",
       "      <td>0.017551</td>\n",
       "      <td>0</td>\n",
       "    </tr>\n",
       "    <tr>\n",
       "      <th>22</th>\n",
       "      <td>53.589405</td>\n",
       "      <td>52.501556</td>\n",
       "      <td>-1.880340</td>\n",
       "      <td>0.649103</td>\n",
       "      <td>-0.011837</td>\n",
       "      <td>-0.014552</td>\n",
       "      <td>-0.000028</td>\n",
       "      <td>0.000188</td>\n",
       "      <td>-0.000763</td>\n",
       "      <td>0.002998</td>\n",
       "      <td>0</td>\n",
       "    </tr>\n",
       "    <tr>\n",
       "      <th>23</th>\n",
       "      <td>54.256935</td>\n",
       "      <td>53.133030</td>\n",
       "      <td>-1.879984</td>\n",
       "      <td>0.634294</td>\n",
       "      <td>0.012379</td>\n",
       "      <td>0.011956</td>\n",
       "      <td>0.000640</td>\n",
       "      <td>0.000793</td>\n",
       "      <td>0.011617</td>\n",
       "      <td>0.014954</td>\n",
       "      <td>0</td>\n",
       "    </tr>\n",
       "    <tr>\n",
       "      <th>24</th>\n",
       "      <td>53.658115</td>\n",
       "      <td>52.521286</td>\n",
       "      <td>-1.832474</td>\n",
       "      <td>0.689018</td>\n",
       "      <td>-0.011098</td>\n",
       "      <td>-0.011580</td>\n",
       "      <td>0.000077</td>\n",
       "      <td>0.000134</td>\n",
       "      <td>0.000519</td>\n",
       "      <td>0.003374</td>\n",
       "      <td>0</td>\n",
       "    </tr>\n",
       "    <tr>\n",
       "      <th>25</th>\n",
       "      <td>53.932976</td>\n",
       "      <td>52.767960</td>\n",
       "      <td>-1.818233</td>\n",
       "      <td>0.694927</td>\n",
       "      <td>0.005109</td>\n",
       "      <td>0.004686</td>\n",
       "      <td>-0.000113</td>\n",
       "      <td>-0.000080</td>\n",
       "      <td>0.005628</td>\n",
       "      <td>0.008059</td>\n",
       "      <td>0</td>\n",
       "    </tr>\n",
       "  </tbody>\n",
       "</table>\n",
       "</div>"
      ],
      "text/plain": [
       "       Asset1     Asset2    Spread    ZScore  lrets_a1  lrets_a2  \\\n",
       "21  54.227489  53.271168 -2.055377  0.403727 -0.000543  0.000741   \n",
       "22  53.589405  52.501556 -1.880340  0.649103 -0.011837 -0.014552   \n",
       "23  54.256935  53.133030 -1.879984  0.634294  0.012379  0.011956   \n",
       "24  53.658115  52.521286 -1.832474  0.689018 -0.011098 -0.011580   \n",
       "25  53.932976  52.767960 -1.818233  0.694927  0.005109  0.004686   \n",
       "\n",
       "    lrets_a1_roll  lrets_a2_roll  a1_prod_rets  a2_prod_rets  Target  \n",
       "21       0.000527       0.000836      0.011074      0.017551       0  \n",
       "22      -0.000028       0.000188     -0.000763      0.002998       0  \n",
       "23       0.000640       0.000793      0.011617      0.014954       0  \n",
       "24       0.000077       0.000134      0.000519      0.003374       0  \n",
       "25      -0.000113      -0.000080      0.005628      0.008059       0  "
      ]
     },
     "execution_count": 10,
     "metadata": {},
     "output_type": "execute_result"
    }
   ],
   "source": [
    "# Add target\n",
    "future_step = 1\n",
    "df['Target'] = 0\n",
    "df.loc[df.Spread.shift(-future_step) > 0, 'Target'] = 1\n",
    "df.dropna(inplace=True)\n",
    "df.head()"
   ]
  },
  {
   "cell_type": "code",
   "execution_count": 11,
   "metadata": {},
   "outputs": [
    {
     "data": {
      "text/plain": [
       "(1243, 1243)"
      ]
     },
     "execution_count": 11,
     "metadata": {},
     "output_type": "execute_result"
    }
   ],
   "source": [
    "# Split X and y\n",
    "X_data = df.iloc[:, :-1].values\n",
    "y_data = df.Target.values\n",
    "len(X_data), len(y_data)"
   ]
  },
  {
   "cell_type": "code",
   "execution_count": 12,
   "metadata": {},
   "outputs": [
    {
     "data": {
      "text/plain": [
       "array([[-1.26492611, -1.13504476, -0.63395987,  0.25890302, -0.06874343,\n",
       "         0.0197518 ,  0.02761802,  0.13117419, -1.46674999, -1.28742802],\n",
       "       [-1.29718371, -1.17576153, -0.58682679,  0.42967168, -0.84531675,\n",
       "        -0.94004753, -0.15727973, -0.06985924, -1.51634206, -1.34812881]])"
      ]
     },
     "execution_count": 12,
     "metadata": {},
     "output_type": "execute_result"
    }
   ],
   "source": [
    "# Feature scaling\n",
    "scaler = StandardScaler()\n",
    "X = scaler.fit_transform(X_data)\n",
    "X[:2]"
   ]
  },
  {
   "cell_type": "markdown",
   "metadata": {},
   "source": [
    "### Dataload Structuring"
   ]
  },
  {
   "cell_type": "code",
   "execution_count": 15,
   "metadata": {},
   "outputs": [],
   "source": [
    "# Dataset class\n",
    "class dataset(Dataset):\n",
    "    def __init__(self, X, y):\n",
    "        self.X = torch.tensor(X, dtype=torch.float32)\n",
    "        self.y = torch.tensor(y, dtype=torch.float32)\n",
    "        self.length = len(self.X)\n",
    "        \n",
    "    def __len__(self):\n",
    "        return self.length\n",
    "    \n",
    "    def __getitem__(self, idx):\n",
    "        return self.X[idx], self.y[idx]\n",
    "    \n",
    "trainset = dataset(X, y_data)\n",
    "trainloader = DataLoader(trainset, batch_size=32, shuffle=False)"
   ]
  },
  {
   "cell_type": "code",
   "execution_count": 16,
   "metadata": {},
   "outputs": [
    {
     "data": {
      "text/plain": [
       "tensor([[-1.2649, -1.1350, -0.6340,  0.2589, -0.0687,  0.0198,  0.0276,  0.1312,\n",
       "         -1.4668, -1.2874],\n",
       "        [-1.2972, -1.1758, -0.5868,  0.4297, -0.8453, -0.9400, -0.1573, -0.0699,\n",
       "         -1.5163, -1.3481]])"
      ]
     },
     "execution_count": 16,
     "metadata": {},
     "output_type": "execute_result"
    }
   ],
   "source": [
    "# Review X data\n",
    "trainloader.dataset.X[:2]"
   ]
  },
  {
   "cell_type": "code",
   "execution_count": 17,
   "metadata": {},
   "outputs": [
    {
     "data": {
      "text/plain": [
       "tensor([0., 0.])"
      ]
     },
     "execution_count": 17,
     "metadata": {},
     "output_type": "execute_result"
    }
   ],
   "source": [
    "# Review y data\n",
    "trainloader.dataset.y[:2]"
   ]
  },
  {
   "cell_type": "markdown",
   "metadata": {},
   "source": [
    "### Build Neural Network"
   ]
  },
  {
   "cell_type": "code",
   "execution_count": 14,
   "metadata": {},
   "outputs": [],
   "source": [
    "class Net(nn.Module):\n",
    "    def __init__(self, input_shape):\n",
    "        super(Net, self).__init__()\n",
    "        self.fc1 = nn.Linear(input_shape, 32)\n",
    "        self.fc2 = nn.Linear(32, 64)\n",
    "        self.fc3 = nn.Linear(64, 1)\n",
    "    \n",
    "    def forward(self, x):\n",
    "        x = torch.relu(self.fc1(x))\n",
    "        x = torch.relu(self.fc2(x))\n",
    "        x = torch.sigmoid(self.fc3(x))\n",
    "        return x"
   ]
  },
  {
   "cell_type": "markdown",
   "metadata": {},
   "source": [
    "### Train Neural Network"
   ]
  },
  {
   "cell_type": "code",
   "execution_count": 18,
   "metadata": {},
   "outputs": [],
   "source": [
    "# Hyperparameters\n",
    "learning_rate = 0.01\n",
    "epochs = 100\n",
    "\n",
    "# Model, optimizer and loss function\n",
    "model = Net(input_shape=X.shape[1])\n",
    "optimizer = torch.optim.AdamW(model.parameters(), lr=learning_rate)\n",
    "loss_fn = nn.BCELoss()"
   ]
  },
  {
   "cell_type": "code",
   "execution_count": 22,
   "metadata": {},
   "outputs": [
    {
     "name": "stdout",
     "output_type": "stream",
     "text": [
      "Epoch 0, Loss: 7.826740144878386e-09, Accuracy: 0.5189492372086582\n",
      "Epoch 10, Loss: 2.0469536439124414e-13, Accuracy: 0.5127649673246609\n",
      "Epoch 20, Loss: 1.0271606021251475e-14, Accuracy: 0.5210106605033239\n",
      "Epoch 30, Loss: 3.048969132724011e-10, Accuracy: 0.5210106605033239\n",
      "Epoch 40, Loss: 2.808197896442266e-09, Accuracy: 0.5210106605033239\n",
      "Epoch 50, Loss: 3.7690972476411844e-06, Accuracy: 0.5225963707299898\n",
      "Epoch 60, Loss: 4.9511600082041696e-06, Accuracy: 0.5260849332286549\n",
      "Epoch 70, Loss: 3.1900543717711116e-07, Accuracy: 0.5286220695913204\n",
      "Epoch 80, Loss: 1.3121730368936824e-08, Accuracy: 0.5211692315259905\n",
      "Epoch 90, Loss: 1.5629620975232683e-07, Accuracy: 0.5211692315259905\n"
     ]
    }
   ],
   "source": [
    "# Forward loop\n",
    "losses = []\n",
    "accuracy = []\n",
    "\n",
    "for i in range(epochs):\n",
    "    for j, (X_train, y_train) in enumerate(trainloader):\n",
    "        \n",
    "        # Calculate output\n",
    "        output = model(X_train)\n",
    "\n",
    "        # Calculate loss\n",
    "        loss = loss_fn(output, y_train.unsqueeze(1))\n",
    "\n",
    "        # Calculate accuracy\n",
    "        predicted = model(torch.tensor(X, dtype=torch.float32))\n",
    "        acc = (predicted.detach().numpy().round() == y_data).mean()\n",
    "\n",
    "        # Backward propagation\n",
    "        optimizer.zero_grad()\n",
    "        loss.backward()\n",
    "        optimizer.step()\n",
    "\n",
    "        # Print results\n",
    "        if i % 10 == 0 and j == 0:\n",
    "            print(f'Epoch {i}, Loss: {loss.item()}, Accuracy: {acc}')\n",
    "            losses.append(loss.item())\n",
    "            accuracy.append(acc)"
   ]
  },
  {
   "cell_type": "code",
   "execution_count": null,
   "metadata": {},
   "outputs": [],
   "source": []
  }
 ],
 "metadata": {
  "kernelspec": {
   "display_name": "base",
   "language": "python",
   "name": "python3"
  },
  "language_info": {
   "codemirror_mode": {
    "name": "ipython",
    "version": 3
   },
   "file_extension": ".py",
   "mimetype": "text/x-python",
   "name": "python",
   "nbconvert_exporter": "python",
   "pygments_lexer": "ipython3",
   "version": "3.12.7"
  }
 },
 "nbformat": 4,
 "nbformat_minor": 2
}
