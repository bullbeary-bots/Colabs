{
 "cells": [
  {
   "cell_type": "markdown",
   "metadata": {},
   "source": [
    "### Imports"
   ]
  },
  {
   "cell_type": "code",
   "execution_count": 1,
   "metadata": {},
   "outputs": [],
   "source": [
    "import numpy as np\n",
    "import pandas as pd\n",
    "from stratmanager import StrategyManager\n",
    "\n",
    "import sklearn.mixture as mix\n",
    "from ta.momentum import RSIIndicator\n",
    "import matplotlib.pyplot as plt"
   ]
  },
  {
   "cell_type": "markdown",
   "metadata": {},
   "source": [
    "### Data Extraction and Returns Overview"
   ]
  },
  {
   "cell_type": "code",
   "execution_count": 2,
   "metadata": {},
   "outputs": [
    {
     "name": "stderr",
     "output_type": "stream",
     "text": [
      "[*********************100%***********************]  1 of 1 completed\n"
     ]
    }
   ],
   "source": [
    "# Extract data\n",
    "start_date = '2018-01-01'\n",
    "end_date = '2024-01-01'\n",
    "symbol = \"BTC-USD\"\n",
    "\n",
    "strat_mgr = StrategyManager(symbol=symbol, start_date=start_date, end_date=end_date)\n",
    "df = strat_mgr.df.copy()"
   ]
  },
  {
   "cell_type": "code",
   "execution_count": 3,
   "metadata": {},
   "outputs": [
    {
     "data": {
      "application/vnd.microsoft.datawrangler.viewer.v0+json": {
       "columns": [
        {
         "name": "Date",
         "rawType": "datetime64[ns, UTC]",
         "type": "unknown"
        },
        {
         "name": "Open",
         "rawType": "float64",
         "type": "float"
        },
        {
         "name": "High",
         "rawType": "float64",
         "type": "float"
        },
        {
         "name": "Low",
         "rawType": "float64",
         "type": "float"
        },
        {
         "name": "Close",
         "rawType": "float64",
         "type": "float"
        },
        {
         "name": "Volume",
         "rawType": "int64",
         "type": "integer"
        },
        {
         "name": "Returns",
         "rawType": "float64",
         "type": "float"
        },
        {
         "name": "Range",
         "rawType": "float64",
         "type": "float"
        },
        {
         "name": "Bench_C_Rets",
         "rawType": "float64",
         "type": "float"
        }
       ],
       "conversionMethod": "pd.DataFrame",
       "ref": "e3410ea7-f440-4857-b7f2-f79b3409114a",
       "rows": [
        [
         "2018-01-02 00:00:00+00:00",
         "13625.0",
         "15444.599609375",
         "13163.599609375",
         "14982.099609375",
         "16846600192",
         "0.0970110560814097",
         "0.1732808705588016",
         "0.09672553532995742"
        ],
        [
         "2018-01-03 00:00:00+00:00",
         "14978.2001953125",
         "15572.7998046875",
         "14844.5",
         "15201.0",
         "16871900160",
         "0.014610795304552893",
         "0.04906192897622019",
         "0.11785178868304436"
        ],
        [
         "2018-01-04 00:00:00+00:00",
         "15270.7001953125",
         "15739.7001953125",
         "14522.2001953125",
         "15599.2001953125",
         "21783199744",
         "0.026195657872015055",
         "0.08383715853145901",
         "0.13816301046876145"
        ],
        [
         "2018-01-05 00:00:00+00:00",
         "15477.2001953125",
         "17705.19921875",
         "15202.7998046875",
         "17429.5",
         "23840899072",
         "0.11733292616101543",
         "0.16460122123629706",
         "0.27408556923860194"
        ],
        [
         "2018-01-06 00:00:00+00:00",
         "17462.099609375",
         "17712.400390625",
         "16764.599609375",
         "17527.0",
         "18314600448",
         "0.005593964256002781",
         "0.056535843583164214",
         "0.28123474529361703"
        ]
       ],
       "shape": {
        "columns": 8,
        "rows": 5
       }
      },
      "text/html": [
       "<div>\n",
       "<style scoped>\n",
       "    .dataframe tbody tr th:only-of-type {\n",
       "        vertical-align: middle;\n",
       "    }\n",
       "\n",
       "    .dataframe tbody tr th {\n",
       "        vertical-align: top;\n",
       "    }\n",
       "\n",
       "    .dataframe thead th {\n",
       "        text-align: right;\n",
       "    }\n",
       "</style>\n",
       "<table border=\"1\" class=\"dataframe\">\n",
       "  <thead>\n",
       "    <tr style=\"text-align: right;\">\n",
       "      <th></th>\n",
       "      <th>Open</th>\n",
       "      <th>High</th>\n",
       "      <th>Low</th>\n",
       "      <th>Close</th>\n",
       "      <th>Volume</th>\n",
       "      <th>Returns</th>\n",
       "      <th>Range</th>\n",
       "      <th>Bench_C_Rets</th>\n",
       "    </tr>\n",
       "    <tr>\n",
       "      <th>Date</th>\n",
       "      <th></th>\n",
       "      <th></th>\n",
       "      <th></th>\n",
       "      <th></th>\n",
       "      <th></th>\n",
       "      <th></th>\n",
       "      <th></th>\n",
       "      <th></th>\n",
       "    </tr>\n",
       "  </thead>\n",
       "  <tbody>\n",
       "    <tr>\n",
       "      <th>2018-01-02 00:00:00+00:00</th>\n",
       "      <td>13625.000000</td>\n",
       "      <td>15444.599609</td>\n",
       "      <td>13163.599609</td>\n",
       "      <td>14982.099609</td>\n",
       "      <td>16846600192</td>\n",
       "      <td>0.097011</td>\n",
       "      <td>0.173281</td>\n",
       "      <td>0.096726</td>\n",
       "    </tr>\n",
       "    <tr>\n",
       "      <th>2018-01-03 00:00:00+00:00</th>\n",
       "      <td>14978.200195</td>\n",
       "      <td>15572.799805</td>\n",
       "      <td>14844.500000</td>\n",
       "      <td>15201.000000</td>\n",
       "      <td>16871900160</td>\n",
       "      <td>0.014611</td>\n",
       "      <td>0.049062</td>\n",
       "      <td>0.117852</td>\n",
       "    </tr>\n",
       "    <tr>\n",
       "      <th>2018-01-04 00:00:00+00:00</th>\n",
       "      <td>15270.700195</td>\n",
       "      <td>15739.700195</td>\n",
       "      <td>14522.200195</td>\n",
       "      <td>15599.200195</td>\n",
       "      <td>21783199744</td>\n",
       "      <td>0.026196</td>\n",
       "      <td>0.083837</td>\n",
       "      <td>0.138163</td>\n",
       "    </tr>\n",
       "    <tr>\n",
       "      <th>2018-01-05 00:00:00+00:00</th>\n",
       "      <td>15477.200195</td>\n",
       "      <td>17705.199219</td>\n",
       "      <td>15202.799805</td>\n",
       "      <td>17429.500000</td>\n",
       "      <td>23840899072</td>\n",
       "      <td>0.117333</td>\n",
       "      <td>0.164601</td>\n",
       "      <td>0.274086</td>\n",
       "    </tr>\n",
       "    <tr>\n",
       "      <th>2018-01-06 00:00:00+00:00</th>\n",
       "      <td>17462.099609</td>\n",
       "      <td>17712.400391</td>\n",
       "      <td>16764.599609</td>\n",
       "      <td>17527.000000</td>\n",
       "      <td>18314600448</td>\n",
       "      <td>0.005594</td>\n",
       "      <td>0.056536</td>\n",
       "      <td>0.281235</td>\n",
       "    </tr>\n",
       "  </tbody>\n",
       "</table>\n",
       "</div>"
      ],
      "text/plain": [
       "                                   Open          High           Low  \\\n",
       "Date                                                                  \n",
       "2018-01-02 00:00:00+00:00  13625.000000  15444.599609  13163.599609   \n",
       "2018-01-03 00:00:00+00:00  14978.200195  15572.799805  14844.500000   \n",
       "2018-01-04 00:00:00+00:00  15270.700195  15739.700195  14522.200195   \n",
       "2018-01-05 00:00:00+00:00  15477.200195  17705.199219  15202.799805   \n",
       "2018-01-06 00:00:00+00:00  17462.099609  17712.400391  16764.599609   \n",
       "\n",
       "                                  Close       Volume   Returns     Range  \\\n",
       "Date                                                                       \n",
       "2018-01-02 00:00:00+00:00  14982.099609  16846600192  0.097011  0.173281   \n",
       "2018-01-03 00:00:00+00:00  15201.000000  16871900160  0.014611  0.049062   \n",
       "2018-01-04 00:00:00+00:00  15599.200195  21783199744  0.026196  0.083837   \n",
       "2018-01-05 00:00:00+00:00  17429.500000  23840899072  0.117333  0.164601   \n",
       "2018-01-06 00:00:00+00:00  17527.000000  18314600448  0.005594  0.056536   \n",
       "\n",
       "                           Bench_C_Rets  \n",
       "Date                                     \n",
       "2018-01-02 00:00:00+00:00      0.096726  \n",
       "2018-01-03 00:00:00+00:00      0.117852  \n",
       "2018-01-04 00:00:00+00:00      0.138163  \n",
       "2018-01-05 00:00:00+00:00      0.274086  \n",
       "2018-01-06 00:00:00+00:00      0.281235  "
      ]
     },
     "execution_count": 3,
     "metadata": {},
     "output_type": "execute_result"
    }
   ],
   "source": [
    "df.head()"
   ]
  },
  {
   "cell_type": "code",
   "execution_count": 5,
   "metadata": {},
   "outputs": [
    {
     "data": {
      "text/plain": [
       "[<matplotlib.lines.Line2D at 0x1ed64964710>]"
      ]
     },
     "execution_count": 5,
     "metadata": {},
     "output_type": "execute_result"
    },
    {
     "data": {
      "image/png": "[encoded data removed]",
      "text/plain": [
       "<Figure size 1500x300 with 1 Axes>"
      ]
     },
     "metadata": {},
     "output_type": "display_data"
    }
   ],
   "source": [
    "# Benchmark returns profile\n",
    "fig = plt.figure(figsize=(15, 3))\n",
    "plt.plot(df['Bench_C_Rets'].values)"
   ]
  },
  {
   "cell_type": "code",
   "execution_count": null,
   "metadata": {},
   "outputs": [
    {
     "data": {
      "text/plain": [
       "[<matplotlib.lines.Line2D at 0x1ed65bdbe30>]"
      ]
     },
     "execution_count": 6,
     "metadata": {},
     "output_type": "execute_result"
    },
    {
     "data": {
      "image/png": "[encoded data removed]",
      "text/plain": [
       "<Figure size 1500x200 with 1 Axes>"
      ]
     },
     "metadata": {},
     "output_type": "display_data"
    }
   ],
   "source": [
    "# Benchmark returns profile \n",
    "fig = plt.figure(figsize=(15, 2))\n",
    "plt.plot(df.Returns.values)"
   ]
  },
  {
   "cell_type": "code",
   "execution_count": 7,
   "metadata": {},
   "outputs": [
    {
     "data": {
      "text/plain": [
       "[<matplotlib.lines.Line2D at 0x1ed65becf20>]"
      ]
     },
     "execution_count": 7,
     "metadata": {},
     "output_type": "execute_result"
    },
    {
     "data": {
      "image/png": "[encoded data removed]",
      "text/plain": [
       "<Figure size 1500x200 with 1 Axes>"
      ]
     },
     "metadata": {},
     "output_type": "display_data"
    }
   ],
   "source": [
    "# Benchmark range profile \n",
    "fig = plt.figure(figsize=(15, 2))\n",
    "plt.plot(df.Range.values)"
   ]
  },
  {
   "cell_type": "markdown",
   "metadata": {},
   "source": [
    "### Feature Engineering - Feature Expansion"
   ]
  },
  {
   "cell_type": "code",
   "execution_count": 8,
   "metadata": {},
   "outputs": [],
   "source": [
    "# Create a copy\n",
    "df_fe = df.copy()"
   ]
  },
  {
   "cell_type": "markdown",
   "metadata": {},
   "source": [
    "##### Indicators"
   ]
  },
  {
   "cell_type": "code",
   "execution_count": 9,
   "metadata": {},
   "outputs": [],
   "source": [
    "# Add RSI\n",
    "rsi = RSIIndicator(close=df_fe.Close, window=14).rsi()\n",
    "df_fe['RSI'] = rsi\n",
    "df_fe['RSI_Ret'] = df_fe['RSI'] / df_fe['RSI'].shift(1)"
   ]
  },
  {
   "cell_type": "code",
   "execution_count": 10,
   "metadata": {},
   "outputs": [],
   "source": [
    "# Add Moving Average\n",
    "df_fe['MA_12'] = df_fe['Close'].rolling(window=12).mean()\n",
    "df_fe['MA_21'] = df_fe['Close'].rolling(window=21).mean()"
   ]
  },
  {
   "cell_type": "code",
   "execution_count": 11,
   "metadata": {},
   "outputs": [],
   "source": [
    "# Day of the week\n",
    "df_fe['DOW'] = df_fe.index.dayofweek"
   ]
  },
  {
   "cell_type": "code",
   "execution_count": 12,
   "metadata": {},
   "outputs": [],
   "source": [
    "# Rolling cumulative returns\n",
    "df_fe['Rolling_Rets'] = df_fe['Returns'].rolling(window=30).sum()"
   ]
  },
  {
   "cell_type": "code",
   "execution_count": 13,
   "metadata": {},
   "outputs": [],
   "source": [
    "# Rolling cumulative range\n",
    "df_fe['Average_Range'] = df_fe['Range'].rolling(window=30).mean()"
   ]
  },
  {
   "cell_type": "markdown",
   "metadata": {},
   "source": [
    "##### Time Intervals"
   ]
  },
  {
   "cell_type": "code",
   "execution_count": 14,
   "metadata": {},
   "outputs": [],
   "source": [
    "# Add time intervals\n",
    "t_steps = [1, 2]\n",
    "t_features = ['Returns', 'Range', 'RSI_Ret']\n",
    "\n",
    "for ts in t_steps:\n",
    "    for tf in t_features:\n",
    "        df_fe[f'{tf}_T{ts}'] = df_fe[tf].shift(ts)"
   ]
  },
  {
   "cell_type": "code",
   "execution_count": 15,
   "metadata": {},
   "outputs": [
    {
     "data": {
      "application/vnd.microsoft.datawrangler.viewer.v0+json": {
       "columns": [
        {
         "name": "Date",
         "rawType": "datetime64[ns, UTC]",
         "type": "unknown"
        },
        {
         "name": "Open",
         "rawType": "float64",
         "type": "float"
        },
        {
         "name": "High",
         "rawType": "float64",
         "type": "float"
        },
        {
         "name": "Low",
         "rawType": "float64",
         "type": "float"
        },
        {
         "name": "Close",
         "rawType": "float64",
         "type": "float"
        },
        {
         "name": "Volume",
         "rawType": "int64",
         "type": "integer"
        },
        {
         "name": "Returns",
         "rawType": "float64",
         "type": "float"
        },
        {
         "name": "Range",
         "rawType": "float64",
         "type": "float"
        },
        {
         "name": "Bench_C_Rets",
         "rawType": "float64",
         "type": "float"
        },
        {
         "name": "RSI",
         "rawType": "float64",
         "type": "float"
        },
        {
         "name": "RSI_Ret",
         "rawType": "float64",
         "type": "float"
        },
        {
         "name": "MA_12",
         "rawType": "float64",
         "type": "float"
        },
        {
         "name": "MA_21",
         "rawType": "float64",
         "type": "float"
        },
        {
         "name": "DOW",
         "rawType": "int32",
         "type": "integer"
        },
        {
         "name": "Rolling_Rets",
         "rawType": "float64",
         "type": "float"
        },
        {
         "name": "Average_Range",
         "rawType": "float64",
         "type": "float"
        },
        {
         "name": "Returns_T1",
         "rawType": "float64",
         "type": "float"
        },
        {
         "name": "Range_T1",
         "rawType": "float64",
         "type": "float"
        },
        {
         "name": "RSI_Ret_T1",
         "rawType": "float64",
         "type": "float"
        },
        {
         "name": "Returns_T2",
         "rawType": "float64",
         "type": "float"
        },
        {
         "name": "Range_T2",
         "rawType": "float64",
         "type": "float"
        },
        {
         "name": "RSI_Ret_T2",
         "rawType": "float64",
         "type": "float"
        }
       ],
       "conversionMethod": "pd.DataFrame",
       "ref": "0fd55806-8bdf-4178-a00f-bb352b6479ca",
       "rows": [
        [
         "2018-01-02 00:00:00+00:00",
         "13625.0",
         "15444.599609375",
         "13163.599609375",
         "14982.099609375",
         "16846600192",
         "0.0970110560814097",
         "0.1732808705588016",
         "0.09672553532995742",
         null,
         null,
         null,
         null,
         "1",
         null,
         null,
         null,
         null,
         null,
         null,
         null,
         null
        ],
        [
         "2018-01-03 00:00:00+00:00",
         "14978.2001953125",
         "15572.7998046875",
         "14844.5",
         "15201.0",
         "16871900160",
         "0.014610795304552893",
         "0.04906192897622019",
         "0.11785178868304436",
         null,
         null,
         null,
         null,
         "2",
         null,
         null,
         "0.0970110560814097",
         "0.1732808705588016",
         null,
         null,
         null,
         null
        ],
        [
         "2018-01-04 00:00:00+00:00",
         "15270.7001953125",
         "15739.7001953125",
         "14522.2001953125",
         "15599.2001953125",
         "21783199744",
         "0.026195657872015055",
         "0.08383715853145901",
         "0.13816301046876145",
         null,
         null,
         null,
         null,
         "3",
         null,
         null,
         "0.014610795304552893",
         "0.04906192897622019",
         null,
         "0.0970110560814097",
         "0.1732808705588016",
         null
        ],
        [
         "2018-01-05 00:00:00+00:00",
         "15477.2001953125",
         "17705.19921875",
         "15202.7998046875",
         "17429.5",
         "23840899072",
         "0.11733292616101543",
         "0.16460122123629706",
         "0.27408556923860194",
         null,
         null,
         null,
         null,
         "4",
         null,
         null,
         "0.026195657872015055",
         "0.08383715853145901",
         null,
         "0.014610795304552893",
         "0.04906192897622019",
         null
        ],
        [
         "2018-01-06 00:00:00+00:00",
         "17462.099609375",
         "17712.400390625",
         "16764.599609375",
         "17527.0",
         "18314600448",
         "0.005593964256002781",
         "0.056535843583164214",
         "0.28123474529361703",
         null,
         null,
         null,
         null,
         "5",
         null,
         null,
         "0.11733292616101543",
         "0.16460122123629706",
         null,
         "0.026195657872015055",
         "0.08383715853145901",
         null
        ]
       ],
       "shape": {
        "columns": 21,
        "rows": 5
       }
      },
      "text/html": [
       "<div>\n",
       "<style scoped>\n",
       "    .dataframe tbody tr th:only-of-type {\n",
       "        vertical-align: middle;\n",
       "    }\n",
       "\n",
       "    .dataframe tbody tr th {\n",
       "        vertical-align: top;\n",
       "    }\n",
       "\n",
       "    .dataframe thead th {\n",
       "        text-align: right;\n",
       "    }\n",
       "</style>\n",
       "<table border=\"1\" class=\"dataframe\">\n",
       "  <thead>\n",
       "    <tr style=\"text-align: right;\">\n",
       "      <th></th>\n",
       "      <th>Open</th>\n",
       "      <th>High</th>\n",
       "      <th>Low</th>\n",
       "      <th>Close</th>\n",
       "      <th>Volume</th>\n",
       "      <th>Returns</th>\n",
       "      <th>Range</th>\n",
       "      <th>Bench_C_Rets</th>\n",
       "      <th>RSI</th>\n",
       "      <th>RSI_Ret</th>\n",
       "      <th>...</th>\n",
       "      <th>MA_21</th>\n",
       "      <th>DOW</th>\n",
       "      <th>Rolling_Rets</th>\n",
       "      <th>Average_Range</th>\n",
       "      <th>Returns_T1</th>\n",
       "      <th>Range_T1</th>\n",
       "      <th>RSI_Ret_T1</th>\n",
       "      <th>Returns_T2</th>\n",
       "      <th>Range_T2</th>\n",
       "      <th>RSI_Ret_T2</th>\n",
       "    </tr>\n",
       "    <tr>\n",
       "      <th>Date</th>\n",
       "      <th></th>\n",
       "      <th></th>\n",
       "      <th></th>\n",
       "      <th></th>\n",
       "      <th></th>\n",
       "      <th></th>\n",
       "      <th></th>\n",
       "      <th></th>\n",
       "      <th></th>\n",
       "      <th></th>\n",
       "      <th></th>\n",
       "      <th></th>\n",
       "      <th></th>\n",
       "      <th></th>\n",
       "      <th></th>\n",
       "      <th></th>\n",
       "      <th></th>\n",
       "      <th></th>\n",
       "      <th></th>\n",
       "      <th></th>\n",
       "      <th></th>\n",
       "    </tr>\n",
       "  </thead>\n",
       "  <tbody>\n",
       "    <tr>\n",
       "      <th>2018-01-02 00:00:00+00:00</th>\n",
       "      <td>13625.000000</td>\n",
       "      <td>15444.599609</td>\n",
       "      <td>13163.599609</td>\n",
       "      <td>14982.099609</td>\n",
       "      <td>16846600192</td>\n",
       "      <td>0.097011</td>\n",
       "      <td>0.173281</td>\n",
       "      <td>0.096726</td>\n",
       "      <td>NaN</td>\n",
       "      <td>NaN</td>\n",
       "      <td>...</td>\n",
       "      <td>NaN</td>\n",
       "      <td>1</td>\n",
       "      <td>NaN</td>\n",
       "      <td>NaN</td>\n",
       "      <td>NaN</td>\n",
       "      <td>NaN</td>\n",
       "      <td>NaN</td>\n",
       "      <td>NaN</td>\n",
       "      <td>NaN</td>\n",
       "      <td>NaN</td>\n",
       "    </tr>\n",
       "    <tr>\n",
       "      <th>2018-01-03 00:00:00+00:00</th>\n",
       "      <td>14978.200195</td>\n",
       "      <td>15572.799805</td>\n",
       "      <td>14844.500000</td>\n",
       "      <td>15201.000000</td>\n",
       "      <td>16871900160</td>\n",
       "      <td>0.014611</td>\n",
       "      <td>0.049062</td>\n",
       "      <td>0.117852</td>\n",
       "      <td>NaN</td>\n",
       "      <td>NaN</td>\n",
       "      <td>...</td>\n",
       "      <td>NaN</td>\n",
       "      <td>2</td>\n",
       "      <td>NaN</td>\n",
       "      <td>NaN</td>\n",
       "      <td>0.097011</td>\n",
       "      <td>0.173281</td>\n",
       "      <td>NaN</td>\n",
       "      <td>NaN</td>\n",
       "      <td>NaN</td>\n",
       "      <td>NaN</td>\n",
       "    </tr>\n",
       "    <tr>\n",
       "      <th>2018-01-04 00:00:00+00:00</th>\n",
       "      <td>15270.700195</td>\n",
       "      <td>15739.700195</td>\n",
       "      <td>14522.200195</td>\n",
       "      <td>15599.200195</td>\n",
       "      <td>21783199744</td>\n",
       "      <td>0.026196</td>\n",
       "      <td>0.083837</td>\n",
       "      <td>0.138163</td>\n",
       "      <td>NaN</td>\n",
       "      <td>NaN</td>\n",
       "      <td>...</td>\n",
       "      <td>NaN</td>\n",
       "      <td>3</td>\n",
       "      <td>NaN</td>\n",
       "      <td>NaN</td>\n",
       "      <td>0.014611</td>\n",
       "      <td>0.049062</td>\n",
       "      <td>NaN</td>\n",
       "      <td>0.097011</td>\n",
       "      <td>0.173281</td>\n",
       "      <td>NaN</td>\n",
       "    </tr>\n",
       "    <tr>\n",
       "      <th>2018-01-05 00:00:00+00:00</th>\n",
       "      <td>15477.200195</td>\n",
       "      <td>17705.199219</td>\n",
       "      <td>15202.799805</td>\n",
       "      <td>17429.500000</td>\n",
       "      <td>23840899072</td>\n",
       "      <td>0.117333</td>\n",
       "      <td>0.164601</td>\n",
       "      <td>0.274086</td>\n",
       "      <td>NaN</td>\n",
       "      <td>NaN</td>\n",
       "      <td>...</td>\n",
       "      <td>NaN</td>\n",
       "      <td>4</td>\n",
       "      <td>NaN</td>\n",
       "      <td>NaN</td>\n",
       "      <td>0.026196</td>\n",
       "      <td>0.083837</td>\n",
       "      <td>NaN</td>\n",
       "      <td>0.014611</td>\n",
       "      <td>0.049062</td>\n",
       "      <td>NaN</td>\n",
       "    </tr>\n",
       "    <tr>\n",
       "      <th>2018-01-06 00:00:00+00:00</th>\n",
       "      <td>17462.099609</td>\n",
       "      <td>17712.400391</td>\n",
       "      <td>16764.599609</td>\n",
       "      <td>17527.000000</td>\n",
       "      <td>18314600448</td>\n",
       "      <td>0.005594</td>\n",
       "      <td>0.056536</td>\n",
       "      <td>0.281235</td>\n",
       "      <td>NaN</td>\n",
       "      <td>NaN</td>\n",
       "      <td>...</td>\n",
       "      <td>NaN</td>\n",
       "      <td>5</td>\n",
       "      <td>NaN</td>\n",
       "      <td>NaN</td>\n",
       "      <td>0.117333</td>\n",
       "      <td>0.164601</td>\n",
       "      <td>NaN</td>\n",
       "      <td>0.026196</td>\n",
       "      <td>0.083837</td>\n",
       "      <td>NaN</td>\n",
       "    </tr>\n",
       "  </tbody>\n",
       "</table>\n",
       "<p>5 rows × 21 columns</p>\n",
       "</div>"
      ],
      "text/plain": [
       "                                   Open          High           Low  \\\n",
       "Date                                                                  \n",
       "2018-01-02 00:00:00+00:00  13625.000000  15444.599609  13163.599609   \n",
       "2018-01-03 00:00:00+00:00  14978.200195  15572.799805  14844.500000   \n",
       "2018-01-04 00:00:00+00:00  15270.700195  15739.700195  14522.200195   \n",
       "2018-01-05 00:00:00+00:00  15477.200195  17705.199219  15202.799805   \n",
       "2018-01-06 00:00:00+00:00  17462.099609  17712.400391  16764.599609   \n",
       "\n",
       "                                  Close       Volume   Returns     Range  \\\n",
       "Date                                                                       \n",
       "2018-01-02 00:00:00+00:00  14982.099609  16846600192  0.097011  0.173281   \n",
       "2018-01-03 00:00:00+00:00  15201.000000  16871900160  0.014611  0.049062   \n",
       "2018-01-04 00:00:00+00:00  15599.200195  21783199744  0.026196  0.083837   \n",
       "2018-01-05 00:00:00+00:00  17429.500000  23840899072  0.117333  0.164601   \n",
       "2018-01-06 00:00:00+00:00  17527.000000  18314600448  0.005594  0.056536   \n",
       "\n",
       "                           Bench_C_Rets  RSI  RSI_Ret  ...  MA_21  DOW  \\\n",
       "Date                                                   ...               \n",
       "2018-01-02 00:00:00+00:00      0.096726  NaN      NaN  ...    NaN    1   \n",
       "2018-01-03 00:00:00+00:00      0.117852  NaN      NaN  ...    NaN    2   \n",
       "2018-01-04 00:00:00+00:00      0.138163  NaN      NaN  ...    NaN    3   \n",
       "2018-01-05 00:00:00+00:00      0.274086  NaN      NaN  ...    NaN    4   \n",
       "2018-01-06 00:00:00+00:00      0.281235  NaN      NaN  ...    NaN    5   \n",
       "\n",
       "                           Rolling_Rets  Average_Range  Returns_T1  Range_T1  \\\n",
       "Date                                                                           \n",
       "2018-01-02 00:00:00+00:00           NaN            NaN         NaN       NaN   \n",
       "2018-01-03 00:00:00+00:00           NaN            NaN    0.097011  0.173281   \n",
       "2018-01-04 00:00:00+00:00           NaN            NaN    0.014611  0.049062   \n",
       "2018-01-05 00:00:00+00:00           NaN            NaN    0.026196  0.083837   \n",
       "2018-01-06 00:00:00+00:00           NaN            NaN    0.117333  0.164601   \n",
       "\n",
       "                           RSI_Ret_T1  Returns_T2  Range_T2  RSI_Ret_T2  \n",
       "Date                                                                     \n",
       "2018-01-02 00:00:00+00:00         NaN         NaN       NaN         NaN  \n",
       "2018-01-03 00:00:00+00:00         NaN         NaN       NaN         NaN  \n",
       "2018-01-04 00:00:00+00:00         NaN    0.097011  0.173281         NaN  \n",
       "2018-01-05 00:00:00+00:00         NaN    0.014611  0.049062         NaN  \n",
       "2018-01-06 00:00:00+00:00         NaN    0.026196  0.083837         NaN  \n",
       "\n",
       "[5 rows x 21 columns]"
      ]
     },
     "execution_count": 15,
     "metadata": {},
     "output_type": "execute_result"
    }
   ],
   "source": [
    "# Show dataframe\n",
    "df_fe.head()"
   ]
  },
  {
   "cell_type": "markdown",
   "metadata": {},
   "source": [
    "### Feature Engineering - Feature Scaling"
   ]
  },
  {
   "cell_type": "code",
   "execution_count": null,
   "metadata": {},
   "outputs": [
    {
     "data": {
      "application/vnd.microsoft.datawrangler.viewer.v0+json": {
       "columns": [
        {
         "name": "Date",
         "rawType": "datetime64[ns, UTC]",
         "type": "unknown"
        },
        {
         "name": "Open",
         "rawType": "float64",
         "type": "float"
        },
        {
         "name": "High",
         "rawType": "float64",
         "type": "float"
        },
        {
         "name": "Low",
         "rawType": "float64",
         "type": "float"
        },
        {
         "name": "Close",
         "rawType": "float64",
         "type": "float"
        },
        {
         "name": "Volume",
         "rawType": "float64",
         "type": "float"
        },
        {
         "name": "Returns",
         "rawType": "float64",
         "type": "float"
        },
        {
         "name": "Range",
         "rawType": "float64",
         "type": "float"
        },
        {
         "name": "Bench_C_Rets",
         "rawType": "float64",
         "type": "float"
        },
        {
         "name": "RSI",
         "rawType": "float64",
         "type": "float"
        },
        {
         "name": "RSI_Ret",
         "rawType": "float64",
         "type": "float"
        },
        {
         "name": "MA_12",
         "rawType": "float64",
         "type": "float"
        },
        {
         "name": "MA_21",
         "rawType": "float64",
         "type": "float"
        },
        {
         "name": "DOW",
         "rawType": "int32",
         "type": "integer"
        },
        {
         "name": "Rolling_Rets",
         "rawType": "float64",
         "type": "float"
        },
        {
         "name": "Average_Range",
         "rawType": "float64",
         "type": "float"
        },
        {
         "name": "Returns_T1",
         "rawType": "float64",
         "type": "float"
        },
        {
         "name": "Range_T1",
         "rawType": "float64",
         "type": "float"
        },
        {
         "name": "RSI_Ret_T1",
         "rawType": "float64",
         "type": "float"
        },
        {
         "name": "Returns_T2",
         "rawType": "float64",
         "type": "float"
        },
        {
         "name": "Range_T2",
         "rawType": "float64",
         "type": "float"
        },
        {
         "name": "RSI_Ret_T2",
         "rawType": "float64",
         "type": "float"
        }
       ],
       "conversionMethod": "pd.DataFrame",
       "ref": "40fe5270-9365-4fd6-b3a3-40bd5d7d9c9a",
       "rows": [
        [
         "2018-01-02 00:00:00+00:00",
         null,
         null,
         null,
         "14982.099609375",
         null,
         "0.0970110560814097",
         "0.1732808705588016",
         "0.09672553532995742",
         null,
         null,
         null,
         null,
         "1",
         null,
         null,
         null,
         null,
         null,
         null,
         null,
         null
        ],
        [
         "2018-01-03 00:00:00+00:00",
         "0.09931744552752297",
         "0.008300648676879963",
         "0.1276930657650721",
         "15201.0",
         "0.0015017847940628215",
         "0.014610795304552893",
         "0.04906192897622019",
         "0.11785178868304436",
         null,
         null,
         null,
         null,
         "2",
         null,
         null,
         "0.0970110560814097",
         "0.1732808705588016",
         null,
         null,
         null,
         null
        ],
        [
         "2018-01-04 00:00:00+00:00",
         "0.019528380992767103",
         "0.010717429923857491",
         "-0.021711731933544365",
         "15599.2001953125",
         "0.2910934475325866",
         "0.026195657872015055",
         "0.08383715853145901",
         "0.13816301046876145",
         null,
         null,
         null,
         null,
         "3",
         null,
         null,
         "0.014610795304552893",
         "0.04906192897622019",
         null,
         "0.0970110560814097",
         "0.1732808705588016",
         null
        ],
        [
         "2018-01-05 00:00:00+00:00",
         "0.013522628128302072",
         "0.12487525169144287",
         "0.046866149772173404",
         "17429.5",
         "0.09446267546469045",
         "0.11733292616101543",
         "0.16460122123629706",
         "0.27408556923860194",
         null,
         null,
         null,
         null,
         "4",
         null,
         null,
         "0.026195657872015055",
         "0.08383715853145901",
         null,
         "0.014610795304552893",
         "0.04906192897622019",
         null
        ],
        [
         "2018-01-06 00:00:00+00:00",
         "0.12824667181494864",
         "0.0004067263963556389",
         "0.10273106432710821",
         "17527.0",
         "-0.23179908640653468",
         "0.005593964256002781",
         "0.056535843583164214",
         "0.28123474529361703",
         null,
         null,
         null,
         null,
         "5",
         null,
         null,
         "0.11733292616101543",
         "0.16460122123629706",
         null,
         "0.026195657872015055",
         "0.08383715853145901",
         null
        ]
       ],
       "shape": {
        "columns": 21,
        "rows": 5
       }
      },
      "text/html": [
       "<div>\n",
       "<style scoped>\n",
       "    .dataframe tbody tr th:only-of-type {\n",
       "        vertical-align: middle;\n",
       "    }\n",
       "\n",
       "    .dataframe tbody tr th {\n",
       "        vertical-align: top;\n",
       "    }\n",
       "\n",
       "    .dataframe thead th {\n",
       "        text-align: right;\n",
       "    }\n",
       "</style>\n",
       "<table border=\"1\" class=\"dataframe\">\n",
       "  <thead>\n",
       "    <tr style=\"text-align: right;\">\n",
       "      <th></th>\n",
       "      <th>Open</th>\n",
       "      <th>High</th>\n",
       "      <th>Low</th>\n",
       "      <th>Close</th>\n",
       "      <th>Volume</th>\n",
       "      <th>Returns</th>\n",
       "      <th>Range</th>\n",
       "      <th>Bench_C_Rets</th>\n",
       "      <th>RSI</th>\n",
       "      <th>RSI_Ret</th>\n",
       "      <th>...</th>\n",
       "      <th>MA_21</th>\n",
       "      <th>DOW</th>\n",
       "      <th>Rolling_Rets</th>\n",
       "      <th>Average_Range</th>\n",
       "      <th>Returns_T1</th>\n",
       "      <th>Range_T1</th>\n",
       "      <th>RSI_Ret_T1</th>\n",
       "      <th>Returns_T2</th>\n",
       "      <th>Range_T2</th>\n",
       "      <th>RSI_Ret_T2</th>\n",
       "    </tr>\n",
       "    <tr>\n",
       "      <th>Date</th>\n",
       "      <th></th>\n",
       "      <th></th>\n",
       "      <th></th>\n",
       "      <th></th>\n",
       "      <th></th>\n",
       "      <th></th>\n",
       "      <th></th>\n",
       "      <th></th>\n",
       "      <th></th>\n",
       "      <th></th>\n",
       "      <th></th>\n",
       "      <th></th>\n",
       "      <th></th>\n",
       "      <th></th>\n",
       "      <th></th>\n",
       "      <th></th>\n",
       "      <th></th>\n",
       "      <th></th>\n",
       "      <th></th>\n",
       "      <th></th>\n",
       "      <th></th>\n",
       "    </tr>\n",
       "  </thead>\n",
       "  <tbody>\n",
       "    <tr>\n",
       "      <th>2018-01-02 00:00:00+00:00</th>\n",
       "      <td>NaN</td>\n",
       "      <td>NaN</td>\n",
       "      <td>NaN</td>\n",
       "      <td>14982.099609</td>\n",
       "      <td>NaN</td>\n",
       "      <td>0.097011</td>\n",
       "      <td>0.173281</td>\n",
       "      <td>0.096726</td>\n",
       "      <td>NaN</td>\n",
       "      <td>NaN</td>\n",
       "      <td>...</td>\n",
       "      <td>NaN</td>\n",
       "      <td>1</td>\n",
       "      <td>NaN</td>\n",
       "      <td>NaN</td>\n",
       "      <td>NaN</td>\n",
       "      <td>NaN</td>\n",
       "      <td>NaN</td>\n",
       "      <td>NaN</td>\n",
       "      <td>NaN</td>\n",
       "      <td>NaN</td>\n",
       "    </tr>\n",
       "    <tr>\n",
       "      <th>2018-01-03 00:00:00+00:00</th>\n",
       "      <td>0.099317</td>\n",
       "      <td>0.008301</td>\n",
       "      <td>0.127693</td>\n",
       "      <td>15201.000000</td>\n",
       "      <td>0.001502</td>\n",
       "      <td>0.014611</td>\n",
       "      <td>0.049062</td>\n",
       "      <td>0.117852</td>\n",
       "      <td>NaN</td>\n",
       "      <td>NaN</td>\n",
       "      <td>...</td>\n",
       "      <td>NaN</td>\n",
       "      <td>2</td>\n",
       "      <td>NaN</td>\n",
       "      <td>NaN</td>\n",
       "      <td>0.097011</td>\n",
       "      <td>0.173281</td>\n",
       "      <td>NaN</td>\n",
       "      <td>NaN</td>\n",
       "      <td>NaN</td>\n",
       "      <td>NaN</td>\n",
       "    </tr>\n",
       "    <tr>\n",
       "      <th>2018-01-04 00:00:00+00:00</th>\n",
       "      <td>0.019528</td>\n",
       "      <td>0.010717</td>\n",
       "      <td>-0.021712</td>\n",
       "      <td>15599.200195</td>\n",
       "      <td>0.291093</td>\n",
       "      <td>0.026196</td>\n",
       "      <td>0.083837</td>\n",
       "      <td>0.138163</td>\n",
       "      <td>NaN</td>\n",
       "      <td>NaN</td>\n",
       "      <td>...</td>\n",
       "      <td>NaN</td>\n",
       "      <td>3</td>\n",
       "      <td>NaN</td>\n",
       "      <td>NaN</td>\n",
       "      <td>0.014611</td>\n",
       "      <td>0.049062</td>\n",
       "      <td>NaN</td>\n",
       "      <td>0.097011</td>\n",
       "      <td>0.173281</td>\n",
       "      <td>NaN</td>\n",
       "    </tr>\n",
       "    <tr>\n",
       "      <th>2018-01-05 00:00:00+00:00</th>\n",
       "      <td>0.013523</td>\n",
       "      <td>0.124875</td>\n",
       "      <td>0.046866</td>\n",
       "      <td>17429.500000</td>\n",
       "      <td>0.094463</td>\n",
       "      <td>0.117333</td>\n",
       "      <td>0.164601</td>\n",
       "      <td>0.274086</td>\n",
       "      <td>NaN</td>\n",
       "      <td>NaN</td>\n",
       "      <td>...</td>\n",
       "      <td>NaN</td>\n",
       "      <td>4</td>\n",
       "      <td>NaN</td>\n",
       "      <td>NaN</td>\n",
       "      <td>0.026196</td>\n",
       "      <td>0.083837</td>\n",
       "      <td>NaN</td>\n",
       "      <td>0.014611</td>\n",
       "      <td>0.049062</td>\n",
       "      <td>NaN</td>\n",
       "    </tr>\n",
       "    <tr>\n",
       "      <th>2018-01-06 00:00:00+00:00</th>\n",
       "      <td>0.128247</td>\n",
       "      <td>0.000407</td>\n",
       "      <td>0.102731</td>\n",
       "      <td>17527.000000</td>\n",
       "      <td>-0.231799</td>\n",
       "      <td>0.005594</td>\n",
       "      <td>0.056536</td>\n",
       "      <td>0.281235</td>\n",
       "      <td>NaN</td>\n",
       "      <td>NaN</td>\n",
       "      <td>...</td>\n",
       "      <td>NaN</td>\n",
       "      <td>5</td>\n",
       "      <td>NaN</td>\n",
       "      <td>NaN</td>\n",
       "      <td>0.117333</td>\n",
       "      <td>0.164601</td>\n",
       "      <td>NaN</td>\n",
       "      <td>0.026196</td>\n",
       "      <td>0.083837</td>\n",
       "      <td>NaN</td>\n",
       "    </tr>\n",
       "  </tbody>\n",
       "</table>\n",
       "<p>5 rows × 21 columns</p>\n",
       "</div>"
      ],
      "text/plain": [
       "                               Open      High       Low         Close  \\\n",
       "Date                                                                    \n",
       "2018-01-02 00:00:00+00:00       NaN       NaN       NaN  14982.099609   \n",
       "2018-01-03 00:00:00+00:00  0.099317  0.008301  0.127693  15201.000000   \n",
       "2018-01-04 00:00:00+00:00  0.019528  0.010717 -0.021712  15599.200195   \n",
       "2018-01-05 00:00:00+00:00  0.013523  0.124875  0.046866  17429.500000   \n",
       "2018-01-06 00:00:00+00:00  0.128247  0.000407  0.102731  17527.000000   \n",
       "\n",
       "                             Volume   Returns     Range  Bench_C_Rets  RSI  \\\n",
       "Date                                                                         \n",
       "2018-01-02 00:00:00+00:00       NaN  0.097011  0.173281      0.096726  NaN   \n",
       "2018-01-03 00:00:00+00:00  0.001502  0.014611  0.049062      0.117852  NaN   \n",
       "2018-01-04 00:00:00+00:00  0.291093  0.026196  0.083837      0.138163  NaN   \n",
       "2018-01-05 00:00:00+00:00  0.094463  0.117333  0.164601      0.274086  NaN   \n",
       "2018-01-06 00:00:00+00:00 -0.231799  0.005594  0.056536      0.281235  NaN   \n",
       "\n",
       "                           RSI_Ret  ...  MA_21  DOW  Rolling_Rets  \\\n",
       "Date                                ...                             \n",
       "2018-01-02 00:00:00+00:00      NaN  ...    NaN    1           NaN   \n",
       "2018-01-03 00:00:00+00:00      NaN  ...    NaN    2           NaN   \n",
       "2018-01-04 00:00:00+00:00      NaN  ...    NaN    3           NaN   \n",
       "2018-01-05 00:00:00+00:00      NaN  ...    NaN    4           NaN   \n",
       "2018-01-06 00:00:00+00:00      NaN  ...    NaN    5           NaN   \n",
       "\n",
       "                           Average_Range  Returns_T1  Range_T1  RSI_Ret_T1  \\\n",
       "Date                                                                         \n",
       "2018-01-02 00:00:00+00:00            NaN         NaN       NaN         NaN   \n",
       "2018-01-03 00:00:00+00:00            NaN    0.097011  0.173281         NaN   \n",
       "2018-01-04 00:00:00+00:00            NaN    0.014611  0.049062         NaN   \n",
       "2018-01-05 00:00:00+00:00            NaN    0.026196  0.083837         NaN   \n",
       "2018-01-06 00:00:00+00:00            NaN    0.117333  0.164601         NaN   \n",
       "\n",
       "                           Returns_T2  Range_T2  RSI_Ret_T2  \n",
       "Date                                                         \n",
       "2018-01-02 00:00:00+00:00         NaN       NaN         NaN  \n",
       "2018-01-03 00:00:00+00:00         NaN       NaN         NaN  \n",
       "2018-01-04 00:00:00+00:00    0.097011  0.173281         NaN  \n",
       "2018-01-05 00:00:00+00:00    0.014611  0.049062         NaN  \n",
       "2018-01-06 00:00:00+00:00    0.026196  0.083837         NaN  \n",
       "\n",
       "[5 rows x 21 columns]"
      ]
     },
     "execution_count": 16,
     "metadata": {},
     "output_type": "execute_result"
    }
   ],
   "source": [
    "# Correct for stationarity\n",
    "df_fs = df_fe.copy()\n",
    "df_fs[['Open', 'High', 'Low', 'Volume']] = df_fs[['Open', 'High', 'Low', 'Volume']].pct_change()\n",
    "df_fs.head()"
   ]
  },
  {
   "cell_type": "markdown",
   "metadata": {},
   "source": [
    "### Assess Data for ML Readiness"
   ]
  },
  {
   "cell_type": "code",
   "execution_count": 18,
   "metadata": {},
   "outputs": [],
   "source": [
    "# Check for NaN\n",
    "df_fs.isnull().values.any()\n",
    "df_fs.dropna(inplace=True)"
   ]
  },
  {
   "cell_type": "code",
   "execution_count": 19,
   "metadata": {},
   "outputs": [
    {
     "data": {
      "text/plain": [
       "False"
      ]
     },
     "execution_count": 19,
     "metadata": {},
     "output_type": "execute_result"
    }
   ],
   "source": [
    "df_fs.isnull().values.any()"
   ]
  },
  {
   "cell_type": "code",
   "execution_count": 21,
   "metadata": {},
   "outputs": [
    {
     "data": {
      "text/plain": [
       "0"
      ]
     },
     "execution_count": 21,
     "metadata": {},
     "output_type": "execute_result"
    }
   ],
   "source": [
    "# Check for infinite values\n",
    "dfobj = df_fs.isin([np.inf, -np.inf])\n",
    "count = np.isinf(dfobj).values.sum()\n",
    "count\n",
    "# df_fs.replace([np.inf, -np.inf], np.nan, inplace=True)"
   ]
  },
  {
   "cell_type": "code",
   "execution_count": 22,
   "metadata": {},
   "outputs": [
    {
     "name": "stdout",
     "output_type": "stream",
     "text": [
      "<class 'pandas.core.frame.DataFrame'>\n",
      "DatetimeIndex: 2160 entries, 2018-01-31 00:00:00+00:00 to 2023-12-30 00:00:00+00:00\n",
      "Data columns (total 21 columns):\n",
      " #   Column         Non-Null Count  Dtype  \n",
      "---  ------         --------------  -----  \n",
      " 0   Open           2160 non-null   float64\n",
      " 1   High           2160 non-null   float64\n",
      " 2   Low            2160 non-null   float64\n",
      " 3   Close          2160 non-null   float64\n",
      " 4   Volume         2160 non-null   float64\n",
      " 5   Returns        2160 non-null   float64\n",
      " 6   Range          2160 non-null   float64\n",
      " 7   Bench_C_Rets   2160 non-null   float64\n",
      " 8   RSI            2160 non-null   float64\n",
      " 9   RSI_Ret        2160 non-null   float64\n",
      " 10  MA_12          2160 non-null   float64\n",
      " 11  MA_21          2160 non-null   float64\n",
      " 12  DOW            2160 non-null   int32  \n",
      " 13  Rolling_Rets   2160 non-null   float64\n",
      " 14  Average_Range  2160 non-null   float64\n",
      " 15  Returns_T1     2160 non-null   float64\n",
      " 16  Range_T1       2160 non-null   float64\n",
      " 17  RSI_Ret_T1     2160 non-null   float64\n",
      " 18  Returns_T2     2160 non-null   float64\n",
      " 19  Range_T2       2160 non-null   float64\n",
      " 20  RSI_Ret_T2     2160 non-null   float64\n",
      "dtypes: float64(20), int32(1)\n",
      "memory usage: 362.8 KB\n"
     ]
    }
   ],
   "source": [
    "# Check for non-numerical objects\n",
    "df_fs.info()"
   ]
  },
  {
   "cell_type": "code",
   "execution_count": 23,
   "metadata": {},
   "outputs": [
    {
     "data": {
      "application/vnd.microsoft.datawrangler.viewer.v0+json": {
       "columns": [
        {
         "name": "index",
         "rawType": "object",
         "type": "string"
        },
        {
         "name": "Open",
         "rawType": "float64",
         "type": "float"
        },
        {
         "name": "High",
         "rawType": "float64",
         "type": "float"
        },
        {
         "name": "Low",
         "rawType": "float64",
         "type": "float"
        },
        {
         "name": "Close",
         "rawType": "float64",
         "type": "float"
        },
        {
         "name": "Volume",
         "rawType": "float64",
         "type": "float"
        },
        {
         "name": "Returns",
         "rawType": "float64",
         "type": "float"
        },
        {
         "name": "Range",
         "rawType": "float64",
         "type": "float"
        },
        {
         "name": "Bench_C_Rets",
         "rawType": "float64",
         "type": "float"
        },
        {
         "name": "RSI",
         "rawType": "float64",
         "type": "float"
        },
        {
         "name": "RSI_Ret",
         "rawType": "float64",
         "type": "float"
        },
        {
         "name": "MA_12",
         "rawType": "float64",
         "type": "float"
        },
        {
         "name": "MA_21",
         "rawType": "float64",
         "type": "float"
        },
        {
         "name": "DOW",
         "rawType": "float64",
         "type": "float"
        },
        {
         "name": "Rolling_Rets",
         "rawType": "float64",
         "type": "float"
        },
        {
         "name": "Average_Range",
         "rawType": "float64",
         "type": "float"
        },
        {
         "name": "Returns_T1",
         "rawType": "float64",
         "type": "float"
        },
        {
         "name": "Range_T1",
         "rawType": "float64",
         "type": "float"
        },
        {
         "name": "RSI_Ret_T1",
         "rawType": "float64",
         "type": "float"
        },
        {
         "name": "Returns_T2",
         "rawType": "float64",
         "type": "float"
        },
        {
         "name": "Range_T2",
         "rawType": "float64",
         "type": "float"
        },
        {
         "name": "RSI_Ret_T2",
         "rawType": "float64",
         "type": "float"
        }
       ],
       "conversionMethod": "pd.DataFrame",
       "ref": "8d06f0c6-c7d1-4224-98ea-f71cac61a303",
       "rows": [
        [
         "count",
         "2160.0",
         "2160.0",
         "2160.0",
         "2160.0",
         "2160.0",
         "2160.0",
         "2160.0",
         "2160.0",
         "2160.0",
         "2160.0",
         "2160.0",
         "2160.0",
         "2160.0",
         "2160.0",
         "2160.0",
         "2160.0",
         "2160.0",
         "2160.0",
         "2160.0",
         "2160.0",
         "2160.0"
        ],
        [
         "mean",
         "0.001261841163396994",
         "0.001105500595848626",
         "0.0013019238657454742",
         "21867.7828918457",
         "0.03626914401453295",
         "0.0013112953373315248",
         "0.046136480389582776",
         "0.6897833056641269",
         "51.69214863113659",
         "1.0056965739630317",
         "21787.072931925457",
         "21722.523525758774",
         "3.0009259259259258",
         "0.03631772935216777",
         "0.046646866455104734",
         "0.0012618888507912776",
         "0.04618365929264003",
         "1.0056182457052034",
         "0.0012483850261435989",
         "0.04619349676483887",
         "1.0056081870080873"
        ],
        [
         "std",
         "0.035893311564875026",
         "0.031437161548720595",
         "0.03542964031962881",
         "16084.15217142699",
         "0.3089459830924941",
         "0.035788243467308724",
         "0.03901002337147953",
         "1.24224171645334",
         "14.162356235161736",
         "0.10778211483632491",
         "16000.459283132086",
         "15930.809307071815",
         "1.9993048986791435",
         "0.20967947456421163",
         "0.021498862692619667",
         "0.035861755990042835",
         "0.039045735192591996",
         "0.10784328060711669",
         "0.035872391728589",
         "0.03904711677170976",
         "0.10784974122775035"
        ],
        [
         "min",
         "-0.36592438640727887",
         "-0.26371179450736293",
         "-0.3640621166741628",
         "3236.76171875",
         "-0.8691876352337808",
         "-0.37169538560117077",
         "0.0035961619692044255",
         "-0.75808173126865",
         "9.920239176239889",
         "0.45365926494210973",
         "3419.7675170898438",
         "3531.7190522693454",
         "0.0",
         "-0.8449806805862756",
         "0.015756192104107985",
         "-0.37169538560117077",
         "0.0035961619692044255",
         "0.45365926494210973",
         "-0.37169538560117077",
         "0.0035961619692044255",
         "0.45365926494210973"
        ],
        [
         "25%",
         "-0.013771947051524763",
         "-0.01125930656312854",
         "-0.010797784757660384",
         "8268.754638671875",
         "-0.12700012741372602",
         "-0.013877025100638624",
         "0.021912542578362504",
         "-0.38601918480697817",
         "42.000247849427765",
         "0.9540477349107848",
         "8320.104125976562",
         "8306.421154203868",
         "1.0",
         "-0.09408359319783804",
         "0.032545015993904615",
         "-0.013899808574099698",
         "0.021912542578362504",
         "0.9540263624634359",
         "-0.01397388843279948",
         "0.021912542578362504",
         "0.9540263624634359"
        ],
        [
         "50%",
         "0.0005187893505620433",
         "-0.0008004774265545356",
         "0.002285769778075708",
         "17219.9560546875",
         "-0.00822460347177989",
         "0.0007734987431605722",
         "0.036519989700209865",
         "0.3676797445559987",
         "50.48382368234162",
         "1.0025506556059278",
         "17195.078694661457",
         "17100.240234375",
         "3.0",
         "0.023400483377760906",
         "0.04170046895467635",
         "0.0007550241788589762",
         "0.03652693197285173",
         "1.0025017502517333",
         "0.0007550241788589762",
         "0.03652693197285173",
         "1.0025017502517333"
        ],
        [
         "75%",
         "0.016135515601257033",
         "0.012710391663347309",
         "0.014461359486997671",
         "32722.02490234375",
         "0.14750524461377368",
         "0.01613660335283712",
         "0.057334637974496394",
         "1.4979617450700986",
         "60.91947076567504",
         "1.0471541059078333",
         "33016.08166503906",
         "32987.26611328125",
         "5.0",
         "0.17714819296134976",
         "0.05484908113461716",
         "0.01613660335283712",
         "0.05742444953629905",
         "1.0471541059078333",
         "0.01613660335283712",
         "0.05746359301815607",
         "1.0471541059078333"
        ],
        [
         "max",
         "0.18767702109928774",
         "0.187159213582627",
         "0.24789215960771815",
         "67566.828125",
         "5.439002996581901",
         "0.18746473766529936",
         "0.6313865624941921",
         "3.989745243108838",
         "90.7194336989379",
         "1.9260777591380098",
         "64130.533528645836",
         "63016.87648809524",
         "6.0",
         "0.8188271017524197",
         "0.13323850185609495",
         "0.18746473766529936",
         "0.6313865624941921",
         "1.9260777591380098",
         "0.18746473766529936",
         "0.6313865624941921",
         "1.9260777591380098"
        ]
       ],
       "shape": {
        "columns": 21,
        "rows": 8
       }
      },
      "text/html": [
       "<div>\n",
       "<style scoped>\n",
       "    .dataframe tbody tr th:only-of-type {\n",
       "        vertical-align: middle;\n",
       "    }\n",
       "\n",
       "    .dataframe tbody tr th {\n",
       "        vertical-align: top;\n",
       "    }\n",
       "\n",
       "    .dataframe thead th {\n",
       "        text-align: right;\n",
       "    }\n",
       "</style>\n",
       "<table border=\"1\" class=\"dataframe\">\n",
       "  <thead>\n",
       "    <tr style=\"text-align: right;\">\n",
       "      <th></th>\n",
       "      <th>Open</th>\n",
       "      <th>High</th>\n",
       "      <th>Low</th>\n",
       "      <th>Close</th>\n",
       "      <th>Volume</th>\n",
       "      <th>Returns</th>\n",
       "      <th>Range</th>\n",
       "      <th>Bench_C_Rets</th>\n",
       "      <th>RSI</th>\n",
       "      <th>RSI_Ret</th>\n",
       "      <th>...</th>\n",
       "      <th>MA_21</th>\n",
       "      <th>DOW</th>\n",
       "      <th>Rolling_Rets</th>\n",
       "      <th>Average_Range</th>\n",
       "      <th>Returns_T1</th>\n",
       "      <th>Range_T1</th>\n",
       "      <th>RSI_Ret_T1</th>\n",
       "      <th>Returns_T2</th>\n",
       "      <th>Range_T2</th>\n",
       "      <th>RSI_Ret_T2</th>\n",
       "    </tr>\n",
       "  </thead>\n",
       "  <tbody>\n",
       "    <tr>\n",
       "      <th>count</th>\n",
       "      <td>2160.000000</td>\n",
       "      <td>2160.000000</td>\n",
       "      <td>2160.000000</td>\n",
       "      <td>2160.000000</td>\n",
       "      <td>2160.000000</td>\n",
       "      <td>2160.000000</td>\n",
       "      <td>2160.000000</td>\n",
       "      <td>2160.000000</td>\n",
       "      <td>2160.000000</td>\n",
       "      <td>2160.000000</td>\n",
       "      <td>...</td>\n",
       "      <td>2160.000000</td>\n",
       "      <td>2160.000000</td>\n",
       "      <td>2160.000000</td>\n",
       "      <td>2160.000000</td>\n",
       "      <td>2160.000000</td>\n",
       "      <td>2160.000000</td>\n",
       "      <td>2160.000000</td>\n",
       "      <td>2160.000000</td>\n",
       "      <td>2160.000000</td>\n",
       "      <td>2160.000000</td>\n",
       "    </tr>\n",
       "    <tr>\n",
       "      <th>mean</th>\n",
       "      <td>0.001262</td>\n",
       "      <td>0.001106</td>\n",
       "      <td>0.001302</td>\n",
       "      <td>21867.782892</td>\n",
       "      <td>0.036269</td>\n",
       "      <td>0.001311</td>\n",
       "      <td>0.046136</td>\n",
       "      <td>0.689783</td>\n",
       "      <td>51.692149</td>\n",
       "      <td>1.005697</td>\n",
       "      <td>...</td>\n",
       "      <td>21722.523526</td>\n",
       "      <td>3.000926</td>\n",
       "      <td>0.036318</td>\n",
       "      <td>0.046647</td>\n",
       "      <td>0.001262</td>\n",
       "      <td>0.046184</td>\n",
       "      <td>1.005618</td>\n",
       "      <td>0.001248</td>\n",
       "      <td>0.046193</td>\n",
       "      <td>1.005608</td>\n",
       "    </tr>\n",
       "    <tr>\n",
       "      <th>std</th>\n",
       "      <td>0.035893</td>\n",
       "      <td>0.031437</td>\n",
       "      <td>0.035430</td>\n",
       "      <td>16084.152171</td>\n",
       "      <td>0.308946</td>\n",
       "      <td>0.035788</td>\n",
       "      <td>0.039010</td>\n",
       "      <td>1.242242</td>\n",
       "      <td>14.162356</td>\n",
       "      <td>0.107782</td>\n",
       "      <td>...</td>\n",
       "      <td>15930.809307</td>\n",
       "      <td>1.999305</td>\n",
       "      <td>0.209679</td>\n",
       "      <td>0.021499</td>\n",
       "      <td>0.035862</td>\n",
       "      <td>0.039046</td>\n",
       "      <td>0.107843</td>\n",
       "      <td>0.035872</td>\n",
       "      <td>0.039047</td>\n",
       "      <td>0.107850</td>\n",
       "    </tr>\n",
       "    <tr>\n",
       "      <th>min</th>\n",
       "      <td>-0.365924</td>\n",
       "      <td>-0.263712</td>\n",
       "      <td>-0.364062</td>\n",
       "      <td>3236.761719</td>\n",
       "      <td>-0.869188</td>\n",
       "      <td>-0.371695</td>\n",
       "      <td>0.003596</td>\n",
       "      <td>-0.758082</td>\n",
       "      <td>9.920239</td>\n",
       "      <td>0.453659</td>\n",
       "      <td>...</td>\n",
       "      <td>3531.719052</td>\n",
       "      <td>0.000000</td>\n",
       "      <td>-0.844981</td>\n",
       "      <td>0.015756</td>\n",
       "      <td>-0.371695</td>\n",
       "      <td>0.003596</td>\n",
       "      <td>0.453659</td>\n",
       "      <td>-0.371695</td>\n",
       "      <td>0.003596</td>\n",
       "      <td>0.453659</td>\n",
       "    </tr>\n",
       "    <tr>\n",
       "      <th>25%</th>\n",
       "      <td>-0.013772</td>\n",
       "      <td>-0.011259</td>\n",
       "      <td>-0.010798</td>\n",
       "      <td>8268.754639</td>\n",
       "      <td>-0.127000</td>\n",
       "      <td>-0.013877</td>\n",
       "      <td>0.021913</td>\n",
       "      <td>-0.386019</td>\n",
       "      <td>42.000248</td>\n",
       "      <td>0.954048</td>\n",
       "      <td>...</td>\n",
       "      <td>8306.421154</td>\n",
       "      <td>1.000000</td>\n",
       "      <td>-0.094084</td>\n",
       "      <td>0.032545</td>\n",
       "      <td>-0.013900</td>\n",
       "      <td>0.021913</td>\n",
       "      <td>0.954026</td>\n",
       "      <td>-0.013974</td>\n",
       "      <td>0.021913</td>\n",
       "      <td>0.954026</td>\n",
       "    </tr>\n",
       "    <tr>\n",
       "      <th>50%</th>\n",
       "      <td>0.000519</td>\n",
       "      <td>-0.000800</td>\n",
       "      <td>0.002286</td>\n",
       "      <td>17219.956055</td>\n",
       "      <td>-0.008225</td>\n",
       "      <td>0.000773</td>\n",
       "      <td>0.036520</td>\n",
       "      <td>0.367680</td>\n",
       "      <td>50.483824</td>\n",
       "      <td>1.002551</td>\n",
       "      <td>...</td>\n",
       "      <td>17100.240234</td>\n",
       "      <td>3.000000</td>\n",
       "      <td>0.023400</td>\n",
       "      <td>0.041700</td>\n",
       "      <td>0.000755</td>\n",
       "      <td>0.036527</td>\n",
       "      <td>1.002502</td>\n",
       "      <td>0.000755</td>\n",
       "      <td>0.036527</td>\n",
       "      <td>1.002502</td>\n",
       "    </tr>\n",
       "    <tr>\n",
       "      <th>75%</th>\n",
       "      <td>0.016136</td>\n",
       "      <td>0.012710</td>\n",
       "      <td>0.014461</td>\n",
       "      <td>32722.024902</td>\n",
       "      <td>0.147505</td>\n",
       "      <td>0.016137</td>\n",
       "      <td>0.057335</td>\n",
       "      <td>1.497962</td>\n",
       "      <td>60.919471</td>\n",
       "      <td>1.047154</td>\n",
       "      <td>...</td>\n",
       "      <td>32987.266113</td>\n",
       "      <td>5.000000</td>\n",
       "      <td>0.177148</td>\n",
       "      <td>0.054849</td>\n",
       "      <td>0.016137</td>\n",
       "      <td>0.057424</td>\n",
       "      <td>1.047154</td>\n",
       "      <td>0.016137</td>\n",
       "      <td>0.057464</td>\n",
       "      <td>1.047154</td>\n",
       "    </tr>\n",
       "    <tr>\n",
       "      <th>max</th>\n",
       "      <td>0.187677</td>\n",
       "      <td>0.187159</td>\n",
       "      <td>0.247892</td>\n",
       "      <td>67566.828125</td>\n",
       "      <td>5.439003</td>\n",
       "      <td>0.187465</td>\n",
       "      <td>0.631387</td>\n",
       "      <td>3.989745</td>\n",
       "      <td>90.719434</td>\n",
       "      <td>1.926078</td>\n",
       "      <td>...</td>\n",
       "      <td>63016.876488</td>\n",
       "      <td>6.000000</td>\n",
       "      <td>0.818827</td>\n",
       "      <td>0.133239</td>\n",
       "      <td>0.187465</td>\n",
       "      <td>0.631387</td>\n",
       "      <td>1.926078</td>\n",
       "      <td>0.187465</td>\n",
       "      <td>0.631387</td>\n",
       "      <td>1.926078</td>\n",
       "    </tr>\n",
       "  </tbody>\n",
       "</table>\n",
       "<p>8 rows × 21 columns</p>\n",
       "</div>"
      ],
      "text/plain": [
       "              Open         High          Low         Close       Volume  \\\n",
       "count  2160.000000  2160.000000  2160.000000   2160.000000  2160.000000   \n",
       "mean      0.001262     0.001106     0.001302  21867.782892     0.036269   \n",
       "std       0.035893     0.031437     0.035430  16084.152171     0.308946   \n",
       "min      -0.365924    -0.263712    -0.364062   3236.761719    -0.869188   \n",
       "25%      -0.013772    -0.011259    -0.010798   8268.754639    -0.127000   \n",
       "50%       0.000519    -0.000800     0.002286  17219.956055    -0.008225   \n",
       "75%       0.016136     0.012710     0.014461  32722.024902     0.147505   \n",
       "max       0.187677     0.187159     0.247892  67566.828125     5.439003   \n",
       "\n",
       "           Returns        Range  Bench_C_Rets          RSI      RSI_Ret  ...  \\\n",
       "count  2160.000000  2160.000000   2160.000000  2160.000000  2160.000000  ...   \n",
       "mean      0.001311     0.046136      0.689783    51.692149     1.005697  ...   \n",
       "std       0.035788     0.039010      1.242242    14.162356     0.107782  ...   \n",
       "min      -0.371695     0.003596     -0.758082     9.920239     0.453659  ...   \n",
       "25%      -0.013877     0.021913     -0.386019    42.000248     0.954048  ...   \n",
       "50%       0.000773     0.036520      0.367680    50.483824     1.002551  ...   \n",
       "75%       0.016137     0.057335      1.497962    60.919471     1.047154  ...   \n",
       "max       0.187465     0.631387      3.989745    90.719434     1.926078  ...   \n",
       "\n",
       "              MA_21          DOW  Rolling_Rets  Average_Range   Returns_T1  \\\n",
       "count   2160.000000  2160.000000   2160.000000    2160.000000  2160.000000   \n",
       "mean   21722.523526     3.000926      0.036318       0.046647     0.001262   \n",
       "std    15930.809307     1.999305      0.209679       0.021499     0.035862   \n",
       "min     3531.719052     0.000000     -0.844981       0.015756    -0.371695   \n",
       "25%     8306.421154     1.000000     -0.094084       0.032545    -0.013900   \n",
       "50%    17100.240234     3.000000      0.023400       0.041700     0.000755   \n",
       "75%    32987.266113     5.000000      0.177148       0.054849     0.016137   \n",
       "max    63016.876488     6.000000      0.818827       0.133239     0.187465   \n",
       "\n",
       "          Range_T1   RSI_Ret_T1   Returns_T2     Range_T2   RSI_Ret_T2  \n",
       "count  2160.000000  2160.000000  2160.000000  2160.000000  2160.000000  \n",
       "mean      0.046184     1.005618     0.001248     0.046193     1.005608  \n",
       "std       0.039046     0.107843     0.035872     0.039047     0.107850  \n",
       "min       0.003596     0.453659    -0.371695     0.003596     0.453659  \n",
       "25%       0.021913     0.954026    -0.013974     0.021913     0.954026  \n",
       "50%       0.036527     1.002502     0.000755     0.036527     1.002502  \n",
       "75%       0.057424     1.047154     0.016137     0.057464     1.047154  \n",
       "max       0.631387     1.926078     0.187465     0.631387     1.926078  \n",
       "\n",
       "[8 rows x 21 columns]"
      ]
     },
     "execution_count": 23,
     "metadata": {},
     "output_type": "execute_result"
    }
   ],
   "source": [
    "# Describe dataframe \n",
    "df_fs.describe()"
   ]
  },
  {
   "cell_type": "markdown",
   "metadata": {},
   "source": [
    "### Save Data"
   ]
  },
  {
   "cell_type": "code",
   "execution_count": 24,
   "metadata": {},
   "outputs": [],
   "source": [
    "# Save dataframe\n",
    "df_fs.to_csv(f'data/{symbol}.csv')"
   ]
  },
  {
   "cell_type": "code",
   "execution_count": null,
   "metadata": {},
   "outputs": [],
   "source": []
  }
 ],
 "metadata": {
  "kernelspec": {
   "display_name": "base",
   "language": "python",
   "name": "python3"
  },
  "language_info": {
   "codemirror_mode": {
    "name": "ipython",
    "version": 3
   },
   "file_extension": ".py",
   "mimetype": "text/x-python",
   "name": "python",
   "nbconvert_exporter": "python",
   "pygments_lexer": "ipython3",
   "version": "3.12.7"
  }
 },
 "nbformat": 4,
 "nbformat_minor": 2
}
