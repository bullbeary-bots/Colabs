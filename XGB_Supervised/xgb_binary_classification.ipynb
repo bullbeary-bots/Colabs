{
 "cells": [
  {
   "cell_type": "markdown",
   "metadata": {},
   "source": [
    "### Imports"
   ]
  },
  {
   "cell_type": "code",
   "execution_count": 2,
   "metadata": {},
   "outputs": [],
   "source": [
    "# Remove future warnings\n",
    "import warnings\n",
    "warnings.simplefilter(action='ignore', category=FutureWarning)\n",
    "\n",
    "# General\n",
    "import numpy as np\n",
    "\n",
    "# Data management\n",
    "import pandas as pd\n",
    "from sklearn.model_selection import train_test_split\n",
    "\n",
    "# Machine learning\n",
    "from xgboost import XGBClassifier\n",
    "from sklearn.model_selection import RandomizedSearchCV, cross_val_score\n",
    "from sklearn.model_selection import RepeatedStratifiedKFold\n",
    "\n",
    "# Binary classification specific metrics\n",
    "from sklearn.metrics import roc_curve\n",
    "\n",
    "# General metrics\n",
    "from sklearn.metrics import classification_report\n",
    "from sklearn.metrics import confusion_matrix\n",
    "from sklearn.metrics import accuracy_score\n",
    "from sklearn.metrics import precision_score\n",
    "from sklearn.metrics import ConfusionMatrixDisplay\n",
    "\n",
    "# Reporting\n",
    "import matplotlib.pyplot as plt\n",
    "from matplotlib.pylab import rcParams\n",
    "from xgboost import plot_tree"
   ]
  },
  {
   "cell_type": "markdown",
   "metadata": {},
   "source": [
    "### Data Management"
   ]
  },
  {
   "cell_type": "code",
   "execution_count": 3,
   "metadata": {},
   "outputs": [
    {
     "data": {
      "application/vnd.microsoft.datawrangler.viewer.v0+json": {
       "columns": [
        {
         "name": "Date",
         "rawType": "object",
         "type": "string"
        },
        {
         "name": "Open",
         "rawType": "float64",
         "type": "float"
        },
        {
         "name": "High",
         "rawType": "float64",
         "type": "float"
        },
        {
         "name": "Low",
         "rawType": "float64",
         "type": "float"
        },
        {
         "name": "Close",
         "rawType": "float64",
         "type": "float"
        },
        {
         "name": "Volume",
         "rawType": "float64",
         "type": "float"
        },
        {
         "name": "Returns",
         "rawType": "float64",
         "type": "float"
        },
        {
         "name": "Range",
         "rawType": "float64",
         "type": "float"
        },
        {
         "name": "Bench_C_Rets",
         "rawType": "float64",
         "type": "float"
        },
        {
         "name": "RSI",
         "rawType": "float64",
         "type": "float"
        },
        {
         "name": "RSI_Ret",
         "rawType": "float64",
         "type": "float"
        },
        {
         "name": "MA_12",
         "rawType": "float64",
         "type": "float"
        },
        {
         "name": "MA_21",
         "rawType": "float64",
         "type": "float"
        },
        {
         "name": "DOW",
         "rawType": "int64",
         "type": "integer"
        },
        {
         "name": "Rolling_Rets",
         "rawType": "float64",
         "type": "float"
        },
        {
         "name": "Average_Range",
         "rawType": "float64",
         "type": "float"
        },
        {
         "name": "Returns_T1",
         "rawType": "float64",
         "type": "float"
        },
        {
         "name": "Range_T1",
         "rawType": "float64",
         "type": "float"
        },
        {
         "name": "RSI_Ret_T1",
         "rawType": "float64",
         "type": "float"
        },
        {
         "name": "Returns_T2",
         "rawType": "float64",
         "type": "float"
        },
        {
         "name": "Range_T2",
         "rawType": "float64",
         "type": "float"
        },
        {
         "name": "RSI_Ret_T2",
         "rawType": "float64",
         "type": "float"
        }
       ],
       "conversionMethod": "pd.DataFrame",
       "ref": "a1ec2515-27c3-4102-a2da-89f198553049",
       "rows": [
        [
         "2018-01-31 00:00:00+00:00",
         "-0.1060069719177385",
         "-0.0818593966631293",
         "-0.0257846862758243",
         "10221.099609375",
         "-0.0690795705247284",
         "0.0113592320538773",
         "0.0617933659725782",
         "-0.2451595359137157",
         "33.630607640448915",
         "1.0345912399912267",
         "11245.008463541666",
         "11906.66196986607",
         "2",
         "-0.225820603452642",
         "0.1112668780127158",
         "-0.1053521958132058",
         "0.1266415550970807",
         "0.8369119865153687",
         "-0.0415651580377807",
         "0.0622942072684684",
         "0.9255129418222076"
        ],
        [
         "2018-02-01 00:00:00+00:00",
         "0.0127717701351885",
         "-0.0089388734086506",
         "-0.0987110767614874",
         "9170.5400390625",
         "0.2385526727733171",
         "-0.1027834196380305",
         "0.1675524932747103",
         "-0.3248316376763669",
         "28.887694885417133",
         "0.8589703520751351",
         "10934.286783854166",
         "11704.98293340774",
         "3",
         "-0.4256150791720822",
         "0.1110759321032461",
         "0.0113592320538773",
         "0.0617933659725782",
         "1.0345912399912267",
         "-0.1053521958132058",
         "0.1266415550970807",
         "0.8369119865153687"
        ],
        [
         "2018-02-02 00:00:00+00:00",
         "-0.1069637064598427",
         "-0.1114337486406971",
         "-0.1152698288687383",
         "8830.75",
         "0.2778780990331357",
         "-0.037052347802326",
         "0.1726148559936449",
         "-0.3482748652581463",
         "27.53508817818735",
         "0.9531770633622764",
         "10703.507649739584",
         "11459.751999627975",
         "4",
         "-0.4772782222789611",
         "0.115194363003827",
         "-0.1027834196380305",
         "0.1675524932747103",
         "0.8589703520751351",
         "0.0113592320538773",
         "0.0617933659725782",
         "1.0345912399912267"
        ],
        [
         "2018-02-03 00:00:00+00:00",
         "-0.0317382696189098",
         "0.0315533672054044",
         "0.0583775051023309",
         "9174.91015625",
         "-0.4292569090372352",
         "0.0389729248648189",
         "0.1428954199271002",
         "-0.3228169242543507",
         "31.056266939757165",
         "1.1278796980341326",
         "10557.133463541666",
         "11212.833426339286",
         "5",
         "-0.4645009552861572",
         "0.117162971717015",
         "-0.037052347802326",
         "0.1726148559936449",
         "0.9531770633622764",
         "-0.1027834196380305",
         "0.1675524932747103",
         "0.8589703520751351"
        ],
        [
         "2018-02-04 00:00:00+00:00",
         "0.0365539637783189",
         "-0.0101667293494684",
         "-0.0267110463143586",
         "8277.009765625",
         "-0.0261902194177946",
         "-0.0978647611075892",
         "0.1623227688283619",
         "-0.3895668026880156",
         "27.325631839633488",
         "0.8798749667060645",
         "10341.184244791666",
         "10951.167224702382",
         "6",
         "-0.6796986425547619",
         "0.1170870233034171",
         "0.0389729248648189",
         "0.1428954199271002",
         "1.1278796980341326",
         "-0.037052347802326",
         "0.1726148559936449",
         "0.9531770633622764"
        ]
       ],
       "shape": {
        "columns": 21,
        "rows": 5
       }
      },
      "text/html": [
       "<div>\n",
       "<style scoped>\n",
       "    .dataframe tbody tr th:only-of-type {\n",
       "        vertical-align: middle;\n",
       "    }\n",
       "\n",
       "    .dataframe tbody tr th {\n",
       "        vertical-align: top;\n",
       "    }\n",
       "\n",
       "    .dataframe thead th {\n",
       "        text-align: right;\n",
       "    }\n",
       "</style>\n",
       "<table border=\"1\" class=\"dataframe\">\n",
       "  <thead>\n",
       "    <tr style=\"text-align: right;\">\n",
       "      <th></th>\n",
       "      <th>Open</th>\n",
       "      <th>High</th>\n",
       "      <th>Low</th>\n",
       "      <th>Close</th>\n",
       "      <th>Volume</th>\n",
       "      <th>Returns</th>\n",
       "      <th>Range</th>\n",
       "      <th>Bench_C_Rets</th>\n",
       "      <th>RSI</th>\n",
       "      <th>RSI_Ret</th>\n",
       "      <th>MA_12</th>\n",
       "      <th>MA_21</th>\n",
       "      <th>DOW</th>\n",
       "      <th>Rolling_Rets</th>\n",
       "      <th>Average_Range</th>\n",
       "      <th>Returns_T1</th>\n",
       "      <th>Range_T1</th>\n",
       "      <th>RSI_Ret_T1</th>\n",
       "      <th>Returns_T2</th>\n",
       "      <th>Range_T2</th>\n",
       "      <th>RSI_Ret_T2</th>\n",
       "    </tr>\n",
       "    <tr>\n",
       "      <th>Date</th>\n",
       "      <th></th>\n",
       "      <th></th>\n",
       "      <th></th>\n",
       "      <th></th>\n",
       "      <th></th>\n",
       "      <th></th>\n",
       "      <th></th>\n",
       "      <th></th>\n",
       "      <th></th>\n",
       "      <th></th>\n",
       "      <th></th>\n",
       "      <th></th>\n",
       "      <th></th>\n",
       "      <th></th>\n",
       "      <th></th>\n",
       "      <th></th>\n",
       "      <th></th>\n",
       "      <th></th>\n",
       "      <th></th>\n",
       "      <th></th>\n",
       "      <th></th>\n",
       "    </tr>\n",
       "  </thead>\n",
       "  <tbody>\n",
       "    <tr>\n",
       "      <th>2018-01-31 00:00:00+00:00</th>\n",
       "      <td>-0.106007</td>\n",
       "      <td>-0.081859</td>\n",
       "      <td>-0.025785</td>\n",
       "      <td>10221.099609</td>\n",
       "      <td>-0.069080</td>\n",
       "      <td>0.011359</td>\n",
       "      <td>0.061793</td>\n",
       "      <td>-0.245160</td>\n",
       "      <td>33.630608</td>\n",
       "      <td>1.034591</td>\n",
       "      <td>11245.008464</td>\n",
       "      <td>11906.661970</td>\n",
       "      <td>2</td>\n",
       "      <td>-0.225821</td>\n",
       "      <td>0.111267</td>\n",
       "      <td>-0.105352</td>\n",
       "      <td>0.126642</td>\n",
       "      <td>0.836912</td>\n",
       "      <td>-0.041565</td>\n",
       "      <td>0.062294</td>\n",
       "      <td>0.925513</td>\n",
       "    </tr>\n",
       "    <tr>\n",
       "      <th>2018-02-01 00:00:00+00:00</th>\n",
       "      <td>0.012772</td>\n",
       "      <td>-0.008939</td>\n",
       "      <td>-0.098711</td>\n",
       "      <td>9170.540039</td>\n",
       "      <td>0.238553</td>\n",
       "      <td>-0.102783</td>\n",
       "      <td>0.167552</td>\n",
       "      <td>-0.324832</td>\n",
       "      <td>28.887695</td>\n",
       "      <td>0.858970</td>\n",
       "      <td>10934.286784</td>\n",
       "      <td>11704.982933</td>\n",
       "      <td>3</td>\n",
       "      <td>-0.425615</td>\n",
       "      <td>0.111076</td>\n",
       "      <td>0.011359</td>\n",
       "      <td>0.061793</td>\n",
       "      <td>1.034591</td>\n",
       "      <td>-0.105352</td>\n",
       "      <td>0.126642</td>\n",
       "      <td>0.836912</td>\n",
       "    </tr>\n",
       "    <tr>\n",
       "      <th>2018-02-02 00:00:00+00:00</th>\n",
       "      <td>-0.106964</td>\n",
       "      <td>-0.111434</td>\n",
       "      <td>-0.115270</td>\n",
       "      <td>8830.750000</td>\n",
       "      <td>0.277878</td>\n",
       "      <td>-0.037052</td>\n",
       "      <td>0.172615</td>\n",
       "      <td>-0.348275</td>\n",
       "      <td>27.535088</td>\n",
       "      <td>0.953177</td>\n",
       "      <td>10703.507650</td>\n",
       "      <td>11459.752000</td>\n",
       "      <td>4</td>\n",
       "      <td>-0.477278</td>\n",
       "      <td>0.115194</td>\n",
       "      <td>-0.102783</td>\n",
       "      <td>0.167552</td>\n",
       "      <td>0.858970</td>\n",
       "      <td>0.011359</td>\n",
       "      <td>0.061793</td>\n",
       "      <td>1.034591</td>\n",
       "    </tr>\n",
       "    <tr>\n",
       "      <th>2018-02-03 00:00:00+00:00</th>\n",
       "      <td>-0.031738</td>\n",
       "      <td>0.031553</td>\n",
       "      <td>0.058378</td>\n",
       "      <td>9174.910156</td>\n",
       "      <td>-0.429257</td>\n",
       "      <td>0.038973</td>\n",
       "      <td>0.142895</td>\n",
       "      <td>-0.322817</td>\n",
       "      <td>31.056267</td>\n",
       "      <td>1.127880</td>\n",
       "      <td>10557.133464</td>\n",
       "      <td>11212.833426</td>\n",
       "      <td>5</td>\n",
       "      <td>-0.464501</td>\n",
       "      <td>0.117163</td>\n",
       "      <td>-0.037052</td>\n",
       "      <td>0.172615</td>\n",
       "      <td>0.953177</td>\n",
       "      <td>-0.102783</td>\n",
       "      <td>0.167552</td>\n",
       "      <td>0.858970</td>\n",
       "    </tr>\n",
       "    <tr>\n",
       "      <th>2018-02-04 00:00:00+00:00</th>\n",
       "      <td>0.036554</td>\n",
       "      <td>-0.010167</td>\n",
       "      <td>-0.026711</td>\n",
       "      <td>8277.009766</td>\n",
       "      <td>-0.026190</td>\n",
       "      <td>-0.097865</td>\n",
       "      <td>0.162323</td>\n",
       "      <td>-0.389567</td>\n",
       "      <td>27.325632</td>\n",
       "      <td>0.879875</td>\n",
       "      <td>10341.184245</td>\n",
       "      <td>10951.167225</td>\n",
       "      <td>6</td>\n",
       "      <td>-0.679699</td>\n",
       "      <td>0.117087</td>\n",
       "      <td>0.038973</td>\n",
       "      <td>0.142895</td>\n",
       "      <td>1.127880</td>\n",
       "      <td>-0.037052</td>\n",
       "      <td>0.172615</td>\n",
       "      <td>0.953177</td>\n",
       "    </tr>\n",
       "  </tbody>\n",
       "</table>\n",
       "</div>"
      ],
      "text/plain": [
       "                               Open      High  ...  Range_T2  RSI_Ret_T2\n",
       "Date                                           ...                      \n",
       "2018-01-31 00:00:00+00:00 -0.106007 -0.081859  ...  0.062294    0.925513\n",
       "2018-02-01 00:00:00+00:00  0.012772 -0.008939  ...  0.126642    0.836912\n",
       "2018-02-02 00:00:00+00:00 -0.106964 -0.111434  ...  0.061793    1.034591\n",
       "2018-02-03 00:00:00+00:00 -0.031738  0.031553  ...  0.167552    0.858970\n",
       "2018-02-04 00:00:00+00:00  0.036554 -0.010167  ...  0.172615    0.953177\n",
       "\n",
       "[5 rows x 21 columns]"
      ]
     },
     "execution_count": 3,
     "metadata": {},
     "output_type": "execute_result"
    }
   ],
   "source": [
    "df = pd.read_csv('data/BTC-USD.csv')\n",
    "df.set_index('Date', inplace=True)\n",
    "df.head()"
   ]
  },
  {
   "cell_type": "code",
   "execution_count": 4,
   "metadata": {},
   "outputs": [],
   "source": [
    "# Specify target\n",
    "df.loc[df.Range.shift(-1) > df.Average_Range, 'target'] = 1\n",
    "df.loc[df.Range.shift(-1) <= df.Average_Range, 'target'] = 0"
   ]
  },
  {
   "cell_type": "code",
   "execution_count": 5,
   "metadata": {},
   "outputs": [
    {
     "data": {
      "application/vnd.microsoft.datawrangler.viewer.v0+json": {
       "columns": [
        {
         "name": "Date",
         "rawType": "object",
         "type": "string"
        },
        {
         "name": "Open",
         "rawType": "float64",
         "type": "float"
        },
        {
         "name": "High",
         "rawType": "float64",
         "type": "float"
        },
        {
         "name": "Low",
         "rawType": "float64",
         "type": "float"
        },
        {
         "name": "Close",
         "rawType": "float64",
         "type": "float"
        },
        {
         "name": "Volume",
         "rawType": "float64",
         "type": "float"
        },
        {
         "name": "Returns",
         "rawType": "float64",
         "type": "float"
        },
        {
         "name": "Range",
         "rawType": "float64",
         "type": "float"
        },
        {
         "name": "Bench_C_Rets",
         "rawType": "float64",
         "type": "float"
        },
        {
         "name": "RSI",
         "rawType": "float64",
         "type": "float"
        },
        {
         "name": "RSI_Ret",
         "rawType": "float64",
         "type": "float"
        },
        {
         "name": "MA_12",
         "rawType": "float64",
         "type": "float"
        },
        {
         "name": "MA_21",
         "rawType": "float64",
         "type": "float"
        },
        {
         "name": "DOW",
         "rawType": "int64",
         "type": "integer"
        },
        {
         "name": "Rolling_Rets",
         "rawType": "float64",
         "type": "float"
        },
        {
         "name": "Average_Range",
         "rawType": "float64",
         "type": "float"
        },
        {
         "name": "Returns_T1",
         "rawType": "float64",
         "type": "float"
        },
        {
         "name": "Range_T1",
         "rawType": "float64",
         "type": "float"
        },
        {
         "name": "RSI_Ret_T1",
         "rawType": "float64",
         "type": "float"
        },
        {
         "name": "Returns_T2",
         "rawType": "float64",
         "type": "float"
        },
        {
         "name": "Range_T2",
         "rawType": "float64",
         "type": "float"
        },
        {
         "name": "RSI_Ret_T2",
         "rawType": "float64",
         "type": "float"
        },
        {
         "name": "target",
         "rawType": "float64",
         "type": "float"
        }
       ],
       "conversionMethod": "pd.DataFrame",
       "ref": "301fa915-2bbe-418d-ba07-42c3018ec357",
       "rows": [
        [
         "2023-12-26 00:00:00+00:00",
         "0.0137006642716039",
         "-0.0036997057443752",
         "-0.0254708675171631",
         "42520.40234375",
         "0.4220089963866702",
         "-0.0250552532009955",
         "0.0462296028158113",
         "2.412708268872572",
         "53.30982680747496",
         "0.8897476452810311",
         "42903.0927734375",
         "42959.87034970238",
         "1",
         "0.1342430563482193",
         "0.0342451686813283",
         "0.0138790638610564",
         "0.0233673854043423",
         "1.0469878332185751",
         "-0.0165393996404319",
         "0.027078497909015",
         "0.9245207626716432",
         "1.0"
        ],
        [
         "2023-12-27 00:00:00+00:00",
         "-0.0248023551544448",
         "0.0018343704000201",
         "0.0117834724146117",
         "43442.85546875",
         "-0.1587216039689606",
         "0.0216943649202225",
         "0.035941783995981",
         "2.488778909182482",
         "57.5632876296944",
         "1.079787556571522",
         "43029.184244791664",
         "42945.41369047619",
         "2",
         "0.1619395130580894",
         "0.0347092383755037",
         "-0.0250552532009955",
         "0.0462296028158113",
         "0.8897476452810311",
         "0.0138790638610564",
         "0.0233673854043423",
         "1.0469878332185751",
         "1.0"
        ],
        [
         "2023-12-28 00:00:00+00:00",
         "0.0223368925709488",
         "0.0027841642709678",
         "0.0035802088411927",
         "42627.85546875",
         "-0.089816448845903",
         "-0.018760276947869",
         "0.0351200700712204",
         "2.4222675157686053",
         "52.97173919551651",
         "0.9202347776986716",
         "43061.49576822917",
         "42913.756138392855",
         "3",
         "0.127693238161375",
         "0.0345449954960318",
         "0.0216943649202225",
         "0.035941783995981",
         "1.079787556571522",
         "-0.0250552532009955",
         "0.0462296028158113",
         "0.8897476452810311",
         "1.0"
        ],
        [
         "2023-12-29 00:00:00+00:00",
         "-0.0196363020056239",
         "-0.0155338529683902",
         "-0.0211370253644489",
         "42099.40234375",
         "0.130824455136314",
         "-0.0123968967987939",
         "0.0410452673189647",
         "2.379227983464628",
         "50.17693580566477",
         "0.947239727592552",
         "43122.723958333336",
         "42815.318080357145",
         "4",
         "0.1145719040560423",
         "0.0352454162859909",
         "-0.018760276947869",
         "0.0351200700712204",
         "0.9202347776986716",
         "0.0216943649202225",
         "0.035941783995981",
         "1.079787556571522",
         "0.0"
        ],
        [
         "2023-12-30 00:00:00+00:00",
         "-0.0122702097072886",
         "-0.0125265549903997",
         "0.0031905142693331",
         "42156.90234375",
         "-0.3840802701226889",
         "0.0013658151137276",
         "0.024735124493415",
         "2.3834577222419973",
         "50.48306646638719",
         "1.0061010234245482",
         "43083.83756510416",
         "42740.599888392855",
         "5",
         "0.1197874787700248",
         "0.0355276034237457",
         "-0.0123968967987939",
         "0.0410452673189647",
         "0.947239727592552",
         "-0.018760276947869",
         "0.0351200700712204",
         "0.9202347776986716",
         "0.0"
        ]
       ],
       "shape": {
        "columns": 22,
        "rows": 5
       }
      },
      "text/html": [
       "<div>\n",
       "<style scoped>\n",
       "    .dataframe tbody tr th:only-of-type {\n",
       "        vertical-align: middle;\n",
       "    }\n",
       "\n",
       "    .dataframe tbody tr th {\n",
       "        vertical-align: top;\n",
       "    }\n",
       "\n",
       "    .dataframe thead th {\n",
       "        text-align: right;\n",
       "    }\n",
       "</style>\n",
       "<table border=\"1\" class=\"dataframe\">\n",
       "  <thead>\n",
       "    <tr style=\"text-align: right;\">\n",
       "      <th></th>\n",
       "      <th>Open</th>\n",
       "      <th>High</th>\n",
       "      <th>Low</th>\n",
       "      <th>Close</th>\n",
       "      <th>Volume</th>\n",
       "      <th>Returns</th>\n",
       "      <th>Range</th>\n",
       "      <th>Bench_C_Rets</th>\n",
       "      <th>RSI</th>\n",
       "      <th>RSI_Ret</th>\n",
       "      <th>MA_12</th>\n",
       "      <th>MA_21</th>\n",
       "      <th>DOW</th>\n",
       "      <th>Rolling_Rets</th>\n",
       "      <th>Average_Range</th>\n",
       "      <th>Returns_T1</th>\n",
       "      <th>Range_T1</th>\n",
       "      <th>RSI_Ret_T1</th>\n",
       "      <th>Returns_T2</th>\n",
       "      <th>Range_T2</th>\n",
       "      <th>RSI_Ret_T2</th>\n",
       "      <th>target</th>\n",
       "    </tr>\n",
       "    <tr>\n",
       "      <th>Date</th>\n",
       "      <th></th>\n",
       "      <th></th>\n",
       "      <th></th>\n",
       "      <th></th>\n",
       "      <th></th>\n",
       "      <th></th>\n",
       "      <th></th>\n",
       "      <th></th>\n",
       "      <th></th>\n",
       "      <th></th>\n",
       "      <th></th>\n",
       "      <th></th>\n",
       "      <th></th>\n",
       "      <th></th>\n",
       "      <th></th>\n",
       "      <th></th>\n",
       "      <th></th>\n",
       "      <th></th>\n",
       "      <th></th>\n",
       "      <th></th>\n",
       "      <th></th>\n",
       "      <th></th>\n",
       "    </tr>\n",
       "  </thead>\n",
       "  <tbody>\n",
       "    <tr>\n",
       "      <th>2023-12-26 00:00:00+00:00</th>\n",
       "      <td>0.013701</td>\n",
       "      <td>-0.003700</td>\n",
       "      <td>-0.025471</td>\n",
       "      <td>42520.402344</td>\n",
       "      <td>0.422009</td>\n",
       "      <td>-0.025055</td>\n",
       "      <td>0.046230</td>\n",
       "      <td>2.412708</td>\n",
       "      <td>53.309827</td>\n",
       "      <td>0.889748</td>\n",
       "      <td>42903.092773</td>\n",
       "      <td>42959.870350</td>\n",
       "      <td>1</td>\n",
       "      <td>0.134243</td>\n",
       "      <td>0.034245</td>\n",
       "      <td>0.013879</td>\n",
       "      <td>0.023367</td>\n",
       "      <td>1.046988</td>\n",
       "      <td>-0.016539</td>\n",
       "      <td>0.027078</td>\n",
       "      <td>0.924521</td>\n",
       "      <td>1.0</td>\n",
       "    </tr>\n",
       "    <tr>\n",
       "      <th>2023-12-27 00:00:00+00:00</th>\n",
       "      <td>-0.024802</td>\n",
       "      <td>0.001834</td>\n",
       "      <td>0.011783</td>\n",
       "      <td>43442.855469</td>\n",
       "      <td>-0.158722</td>\n",
       "      <td>0.021694</td>\n",
       "      <td>0.035942</td>\n",
       "      <td>2.488779</td>\n",
       "      <td>57.563288</td>\n",
       "      <td>1.079788</td>\n",
       "      <td>43029.184245</td>\n",
       "      <td>42945.413690</td>\n",
       "      <td>2</td>\n",
       "      <td>0.161940</td>\n",
       "      <td>0.034709</td>\n",
       "      <td>-0.025055</td>\n",
       "      <td>0.046230</td>\n",
       "      <td>0.889748</td>\n",
       "      <td>0.013879</td>\n",
       "      <td>0.023367</td>\n",
       "      <td>1.046988</td>\n",
       "      <td>1.0</td>\n",
       "    </tr>\n",
       "    <tr>\n",
       "      <th>2023-12-28 00:00:00+00:00</th>\n",
       "      <td>0.022337</td>\n",
       "      <td>0.002784</td>\n",
       "      <td>0.003580</td>\n",
       "      <td>42627.855469</td>\n",
       "      <td>-0.089816</td>\n",
       "      <td>-0.018760</td>\n",
       "      <td>0.035120</td>\n",
       "      <td>2.422268</td>\n",
       "      <td>52.971739</td>\n",
       "      <td>0.920235</td>\n",
       "      <td>43061.495768</td>\n",
       "      <td>42913.756138</td>\n",
       "      <td>3</td>\n",
       "      <td>0.127693</td>\n",
       "      <td>0.034545</td>\n",
       "      <td>0.021694</td>\n",
       "      <td>0.035942</td>\n",
       "      <td>1.079788</td>\n",
       "      <td>-0.025055</td>\n",
       "      <td>0.046230</td>\n",
       "      <td>0.889748</td>\n",
       "      <td>1.0</td>\n",
       "    </tr>\n",
       "    <tr>\n",
       "      <th>2023-12-29 00:00:00+00:00</th>\n",
       "      <td>-0.019636</td>\n",
       "      <td>-0.015534</td>\n",
       "      <td>-0.021137</td>\n",
       "      <td>42099.402344</td>\n",
       "      <td>0.130824</td>\n",
       "      <td>-0.012397</td>\n",
       "      <td>0.041045</td>\n",
       "      <td>2.379228</td>\n",
       "      <td>50.176936</td>\n",
       "      <td>0.947240</td>\n",
       "      <td>43122.723958</td>\n",
       "      <td>42815.318080</td>\n",
       "      <td>4</td>\n",
       "      <td>0.114572</td>\n",
       "      <td>0.035245</td>\n",
       "      <td>-0.018760</td>\n",
       "      <td>0.035120</td>\n",
       "      <td>0.920235</td>\n",
       "      <td>0.021694</td>\n",
       "      <td>0.035942</td>\n",
       "      <td>1.079788</td>\n",
       "      <td>0.0</td>\n",
       "    </tr>\n",
       "    <tr>\n",
       "      <th>2023-12-30 00:00:00+00:00</th>\n",
       "      <td>-0.012270</td>\n",
       "      <td>-0.012527</td>\n",
       "      <td>0.003191</td>\n",
       "      <td>42156.902344</td>\n",
       "      <td>-0.384080</td>\n",
       "      <td>0.001366</td>\n",
       "      <td>0.024735</td>\n",
       "      <td>2.383458</td>\n",
       "      <td>50.483066</td>\n",
       "      <td>1.006101</td>\n",
       "      <td>43083.837565</td>\n",
       "      <td>42740.599888</td>\n",
       "      <td>5</td>\n",
       "      <td>0.119787</td>\n",
       "      <td>0.035528</td>\n",
       "      <td>-0.012397</td>\n",
       "      <td>0.041045</td>\n",
       "      <td>0.947240</td>\n",
       "      <td>-0.018760</td>\n",
       "      <td>0.035120</td>\n",
       "      <td>0.920235</td>\n",
       "      <td>0.0</td>\n",
       "    </tr>\n",
       "  </tbody>\n",
       "</table>\n",
       "</div>"
      ],
      "text/plain": [
       "                               Open      High  ...  RSI_Ret_T2  target\n",
       "Date                                           ...                    \n",
       "2023-12-26 00:00:00+00:00  0.013701 -0.003700  ...    0.924521     1.0\n",
       "2023-12-27 00:00:00+00:00 -0.024802  0.001834  ...    1.046988     1.0\n",
       "2023-12-28 00:00:00+00:00  0.022337  0.002784  ...    0.889748     1.0\n",
       "2023-12-29 00:00:00+00:00 -0.019636 -0.015534  ...    1.079788     0.0\n",
       "2023-12-30 00:00:00+00:00 -0.012270 -0.012527  ...    0.920235     0.0\n",
       "\n",
       "[5 rows x 22 columns]"
      ]
     },
     "execution_count": 5,
     "metadata": {},
     "output_type": "execute_result"
    }
   ],
   "source": [
    "# Check for NaN values\n",
    "nan_location = np.where(np.isnan(df))\n",
    "nan_location\n",
    "\n",
    "# Fill NaN values\n",
    "df['target'].fillna(0, inplace=True)\n",
    "df.tail()"
   ]
  },
  {
   "cell_type": "markdown",
   "metadata": {},
   "source": [
    "### Train-Test Split"
   ]
  },
  {
   "cell_type": "code",
   "execution_count": 6,
   "metadata": {},
   "outputs": [],
   "source": [
    "df_tts = df.copy()\n",
    "df_tts = df_tts[['DOW', 'Range', 'RSI', 'RSI_Ret_T1', 'target']]"
   ]
  },
  {
   "cell_type": "code",
   "execution_count": 7,
   "metadata": {},
   "outputs": [],
   "source": [
    "# Split into X and y\n",
    "X = df_tts.iloc[:, :-1]\n",
    "y = df_tts.iloc[:, -1]"
   ]
  },
  {
   "cell_type": "code",
   "execution_count": 8,
   "metadata": {},
   "outputs": [],
   "source": [
    "# Perform train-test split (time-series based method)\n",
    "train_size_ratio = 0.7\n",
    "train_size = int(len(X) * train_size_ratio)\n",
    "X_train, X_test = X[:train_size], X[train_size:]\n",
    "y_train, y_test = y[:train_size], y[train_size:]\n",
    "\n",
    "assert len(X_train) == len(y_train)\n",
    "assert len(X_test) == len(y_test)"
   ]
  },
  {
   "cell_type": "code",
   "execution_count": 9,
   "metadata": {},
   "outputs": [
    {
     "name": "stdout",
     "output_type": "stream",
     "text": [
      "X_train shape: (1512, 4)\n",
      "X_test shape: (648, 4)\n",
      "y_train shape: (1512,)\n",
      "y_test shape: (648,)\n"
     ]
    }
   ],
   "source": [
    "print(f\"X_train shape: {X_train.shape}\")\n",
    "print(f\"X_test shape: {X_test.shape}\")\n",
    "print(f\"y_train shape: {y_train.shape}\")\n",
    "print(f\"y_test shape: {y_test.shape}\")"
   ]
  },
  {
   "cell_type": "markdown",
   "metadata": {},
   "source": [
    "### Build Model"
   ]
  },
  {
   "cell_type": "code",
   "execution_count": 10,
   "metadata": {},
   "outputs": [],
   "source": [
    "# Select a type of model to optimize for\n",
    "is_binary = True\n",
    "is_optimise_for_precision = True"
   ]
  },
  {
   "cell_type": "code",
   "execution_count": 11,
   "metadata": {},
   "outputs": [],
   "source": [
    "# Determine objective and evaluation metric\n",
    "if is_binary:\n",
    "    objective = 'binary:logistic'\n",
    "    eval_metric = 'logloss'\n",
    "    eval_metric_list = ['error', 'logloss', eval_metric]\n",
    "else:\n",
    "    objective = 'multi:softmax'\n",
    "    eval_metric = 'mlogloss'\n",
    "    eval_metric_list = ['merror', 'mlogloss', eval_metric]"
   ]
  },
  {
   "cell_type": "code",
   "execution_count": 12,
   "metadata": {},
   "outputs": [],
   "source": [
    "# Refine evaluation metric\n",
    "if is_binary and is_optimise_for_precision:\n",
    "    eval_metric = 'aucpr'\n",
    "    scoring = 'precision'\n",
    "elif is_binary and not is_optimise_for_precision:\n",
    "    eval_metric = 'auc'\n",
    "    scoring = 'f1'\n",
    "else:\n",
    "    scoring = 'accuracy'"
   ]
  },
  {
   "cell_type": "code",
   "execution_count": 13,
   "metadata": {},
   "outputs": [],
   "source": [
    "# Best hyperparameters: n_estimators=100, max_depth=3, learning_rate=0.01, gamma=1\n",
    "ne = 100\n",
    "md = 3\n",
    "lr = 0.01\n",
    "gm = 1"
   ]
  },
  {
   "cell_type": "code",
   "execution_count": 15,
   "metadata": {},
   "outputs": [],
   "source": [
    "# Build classifier\n",
    "classifier = XGBClassifier(\n",
    "    objective=objective, \n",
    "    booster='gbtree', \n",
    "    eval_metric=eval_metric, \n",
    "    ne_estimators=ne,\n",
    "    max_depth=md,\n",
    "    learning_rate=lr,\n",
    "    gamma=gm,\n",
    "    subsample=0.8,\n",
    "    colsample_bytree=1,\n",
    "    random_state=1,\n",
    "    use_label_encoder=False\n",
    ")"
   ]
  },
  {
   "cell_type": "code",
   "execution_count": 27,
   "metadata": {},
   "outputs": [
    {
     "data": {
      "text/html": [
       "<style>#sk-container-id-2 {\n",
       "  /* Definition of color scheme common for light and dark mode */\n",
       "  --sklearn-color-text: black;\n",
       "  --sklearn-color-line: gray;\n",
       "  /* Definition of color scheme for unfitted estimators */\n",
       "  --sklearn-color-unfitted-level-0: #fff5e6;\n",
       "  --sklearn-color-unfitted-level-1: #f6e4d2;\n",
       "  --sklearn-color-unfitted-level-2: #ffe0b3;\n",
       "  --sklearn-color-unfitted-level-3: chocolate;\n",
       "  /* Definition of color scheme for fitted estimators */\n",
       "  --sklearn-color-fitted-level-0: #f0f8ff;\n",
       "  --sklearn-color-fitted-level-1: #d4ebff;\n",
       "  --sklearn-color-fitted-level-2: #b3dbfd;\n",
       "  --sklearn-color-fitted-level-3: cornflowerblue;\n",
       "\n",
       "  /* Specific color for light theme */\n",
       "  --sklearn-color-text-on-default-background: var(--sg-text-color, var(--theme-code-foreground, var(--jp-content-font-color1, black)));\n",
       "  --sklearn-color-background: var(--sg-background-color, var(--theme-background, var(--jp-layout-color0, white)));\n",
       "  --sklearn-color-border-box: var(--sg-text-color, var(--theme-code-foreground, var(--jp-content-font-color1, black)));\n",
       "  --sklearn-color-icon: #696969;\n",
       "\n",
       "  @media (prefers-color-scheme: dark) {\n",
       "    /* Redefinition of color scheme for dark theme */\n",
       "    --sklearn-color-text-on-default-background: var(--sg-text-color, var(--theme-code-foreground, var(--jp-content-font-color1, white)));\n",
       "    --sklearn-color-background: var(--sg-background-color, var(--theme-background, var(--jp-layout-color0, #111)));\n",
       "    --sklearn-color-border-box: var(--sg-text-color, var(--theme-code-foreground, var(--jp-content-font-color1, white)));\n",
       "    --sklearn-color-icon: #878787;\n",
       "  }\n",
       "}\n",
       "\n",
       "#sk-container-id-2 {\n",
       "  color: var(--sklearn-color-text);\n",
       "}\n",
       "\n",
       "#sk-container-id-2 pre {\n",
       "  padding: 0;\n",
       "}\n",
       "\n",
       "#sk-container-id-2 input.sk-hidden--visually {\n",
       "  border: 0;\n",
       "  clip: rect(1px 1px 1px 1px);\n",
       "  clip: rect(1px, 1px, 1px, 1px);\n",
       "  height: 1px;\n",
       "  margin: -1px;\n",
       "  overflow: hidden;\n",
       "  padding: 0;\n",
       "  position: absolute;\n",
       "  width: 1px;\n",
       "}\n",
       "\n",
       "#sk-container-id-2 div.sk-dashed-wrapped {\n",
       "  border: 1px dashed var(--sklearn-color-line);\n",
       "  margin: 0 0.4em 0.5em 0.4em;\n",
       "  box-sizing: border-box;\n",
       "  padding-bottom: 0.4em;\n",
       "  background-color: var(--sklearn-color-background);\n",
       "}\n",
       "\n",
       "#sk-container-id-2 div.sk-container {\n",
       "  /* jupyter's `normalize.less` sets `[hidden] { display: none; }`\n",
       "     but bootstrap.min.css set `[hidden] { display: none !important; }`\n",
       "     so we also need the `!important` here to be able to override the\n",
       "     default hidden behavior on the sphinx rendered scikit-learn.org.\n",
       "     See: https://github.com/scikit-learn/scikit-learn/issues/21755 */\n",
       "  display: inline-block !important;\n",
       "  position: relative;\n",
       "}\n",
       "\n",
       "#sk-container-id-2 div.sk-text-repr-fallback {\n",
       "  display: none;\n",
       "}\n",
       "\n",
       "div.sk-parallel-item,\n",
       "div.sk-serial,\n",
       "div.sk-item {\n",
       "  /* draw centered vertical line to link estimators */\n",
       "  background-image: linear-gradient(var(--sklearn-color-text-on-default-background), var(--sklearn-color-text-on-default-background));\n",
       "  background-size: 2px 100%;\n",
       "  background-repeat: no-repeat;\n",
       "  background-position: center center;\n",
       "}\n",
       "\n",
       "/* Parallel-specific style estimator block */\n",
       "\n",
       "#sk-container-id-2 div.sk-parallel-item::after {\n",
       "  content: \"\";\n",
       "  width: 100%;\n",
       "  border-bottom: 2px solid var(--sklearn-color-text-on-default-background);\n",
       "  flex-grow: 1;\n",
       "}\n",
       "\n",
       "#sk-container-id-2 div.sk-parallel {\n",
       "  display: flex;\n",
       "  align-items: stretch;\n",
       "  justify-content: center;\n",
       "  background-color: var(--sklearn-color-background);\n",
       "  position: relative;\n",
       "}\n",
       "\n",
       "#sk-container-id-2 div.sk-parallel-item {\n",
       "  display: flex;\n",
       "  flex-direction: column;\n",
       "}\n",
       "\n",
       "#sk-container-id-2 div.sk-parallel-item:first-child::after {\n",
       "  align-self: flex-end;\n",
       "  width: 50%;\n",
       "}\n",
       "\n",
       "#sk-container-id-2 div.sk-parallel-item:last-child::after {\n",
       "  align-self: flex-start;\n",
       "  width: 50%;\n",
       "}\n",
       "\n",
       "#sk-container-id-2 div.sk-parallel-item:only-child::after {\n",
       "  width: 0;\n",
       "}\n",
       "\n",
       "/* Serial-specific style estimator block */\n",
       "\n",
       "#sk-container-id-2 div.sk-serial {\n",
       "  display: flex;\n",
       "  flex-direction: column;\n",
       "  align-items: center;\n",
       "  background-color: var(--sklearn-color-background);\n",
       "  padding-right: 1em;\n",
       "  padding-left: 1em;\n",
       "}\n",
       "\n",
       "\n",
       "/* Toggleable style: style used for estimator/Pipeline/ColumnTransformer box that is\n",
       "clickable and can be expanded/collapsed.\n",
       "- Pipeline and ColumnTransformer use this feature and define the default style\n",
       "- Estimators will overwrite some part of the style using the `sk-estimator` class\n",
       "*/\n",
       "\n",
       "/* Pipeline and ColumnTransformer style (default) */\n",
       "\n",
       "#sk-container-id-2 div.sk-toggleable {\n",
       "  /* Default theme specific background. It is overwritten whether we have a\n",
       "  specific estimator or a Pipeline/ColumnTransformer */\n",
       "  background-color: var(--sklearn-color-background);\n",
       "}\n",
       "\n",
       "/* Toggleable label */\n",
       "#sk-container-id-2 label.sk-toggleable__label {\n",
       "  cursor: pointer;\n",
       "  display: block;\n",
       "  width: 100%;\n",
       "  margin-bottom: 0;\n",
       "  padding: 0.5em;\n",
       "  box-sizing: border-box;\n",
       "  text-align: center;\n",
       "}\n",
       "\n",
       "#sk-container-id-2 label.sk-toggleable__label-arrow:before {\n",
       "  /* Arrow on the left of the label */\n",
       "  content: \"▸\";\n",
       "  float: left;\n",
       "  margin-right: 0.25em;\n",
       "  color: var(--sklearn-color-icon);\n",
       "}\n",
       "\n",
       "#sk-container-id-2 label.sk-toggleable__label-arrow:hover:before {\n",
       "  color: var(--sklearn-color-text);\n",
       "}\n",
       "\n",
       "/* Toggleable content - dropdown */\n",
       "\n",
       "#sk-container-id-2 div.sk-toggleable__content {\n",
       "  max-height: 0;\n",
       "  max-width: 0;\n",
       "  overflow: hidden;\n",
       "  text-align: left;\n",
       "  /* unfitted */\n",
       "  background-color: var(--sklearn-color-unfitted-level-0);\n",
       "}\n",
       "\n",
       "#sk-container-id-2 div.sk-toggleable__content.fitted {\n",
       "  /* fitted */\n",
       "  background-color: var(--sklearn-color-fitted-level-0);\n",
       "}\n",
       "\n",
       "#sk-container-id-2 div.sk-toggleable__content pre {\n",
       "  margin: 0.2em;\n",
       "  border-radius: 0.25em;\n",
       "  color: var(--sklearn-color-text);\n",
       "  /* unfitted */\n",
       "  background-color: var(--sklearn-color-unfitted-level-0);\n",
       "}\n",
       "\n",
       "#sk-container-id-2 div.sk-toggleable__content.fitted pre {\n",
       "  /* unfitted */\n",
       "  background-color: var(--sklearn-color-fitted-level-0);\n",
       "}\n",
       "\n",
       "#sk-container-id-2 input.sk-toggleable__control:checked~div.sk-toggleable__content {\n",
       "  /* Expand drop-down */\n",
       "  max-height: 200px;\n",
       "  max-width: 100%;\n",
       "  overflow: auto;\n",
       "}\n",
       "\n",
       "#sk-container-id-2 input.sk-toggleable__control:checked~label.sk-toggleable__label-arrow:before {\n",
       "  content: \"▾\";\n",
       "}\n",
       "\n",
       "/* Pipeline/ColumnTransformer-specific style */\n",
       "\n",
       "#sk-container-id-2 div.sk-label input.sk-toggleable__control:checked~label.sk-toggleable__label {\n",
       "  color: var(--sklearn-color-text);\n",
       "  background-color: var(--sklearn-color-unfitted-level-2);\n",
       "}\n",
       "\n",
       "#sk-container-id-2 div.sk-label.fitted input.sk-toggleable__control:checked~label.sk-toggleable__label {\n",
       "  background-color: var(--sklearn-color-fitted-level-2);\n",
       "}\n",
       "\n",
       "/* Estimator-specific style */\n",
       "\n",
       "/* Colorize estimator box */\n",
       "#sk-container-id-2 div.sk-estimator input.sk-toggleable__control:checked~label.sk-toggleable__label {\n",
       "  /* unfitted */\n",
       "  background-color: var(--sklearn-color-unfitted-level-2);\n",
       "}\n",
       "\n",
       "#sk-container-id-2 div.sk-estimator.fitted input.sk-toggleable__control:checked~label.sk-toggleable__label {\n",
       "  /* fitted */\n",
       "  background-color: var(--sklearn-color-fitted-level-2);\n",
       "}\n",
       "\n",
       "#sk-container-id-2 div.sk-label label.sk-toggleable__label,\n",
       "#sk-container-id-2 div.sk-label label {\n",
       "  /* The background is the default theme color */\n",
       "  color: var(--sklearn-color-text-on-default-background);\n",
       "}\n",
       "\n",
       "/* On hover, darken the color of the background */\n",
       "#sk-container-id-2 div.sk-label:hover label.sk-toggleable__label {\n",
       "  color: var(--sklearn-color-text);\n",
       "  background-color: var(--sklearn-color-unfitted-level-2);\n",
       "}\n",
       "\n",
       "/* Label box, darken color on hover, fitted */\n",
       "#sk-container-id-2 div.sk-label.fitted:hover label.sk-toggleable__label.fitted {\n",
       "  color: var(--sklearn-color-text);\n",
       "  background-color: var(--sklearn-color-fitted-level-2);\n",
       "}\n",
       "\n",
       "/* Estimator label */\n",
       "\n",
       "#sk-container-id-2 div.sk-label label {\n",
       "  font-family: monospace;\n",
       "  font-weight: bold;\n",
       "  display: inline-block;\n",
       "  line-height: 1.2em;\n",
       "}\n",
       "\n",
       "#sk-container-id-2 div.sk-label-container {\n",
       "  text-align: center;\n",
       "}\n",
       "\n",
       "/* Estimator-specific */\n",
       "#sk-container-id-2 div.sk-estimator {\n",
       "  font-family: monospace;\n",
       "  border: 1px dotted var(--sklearn-color-border-box);\n",
       "  border-radius: 0.25em;\n",
       "  box-sizing: border-box;\n",
       "  margin-bottom: 0.5em;\n",
       "  /* unfitted */\n",
       "  background-color: var(--sklearn-color-unfitted-level-0);\n",
       "}\n",
       "\n",
       "#sk-container-id-2 div.sk-estimator.fitted {\n",
       "  /* fitted */\n",
       "  background-color: var(--sklearn-color-fitted-level-0);\n",
       "}\n",
       "\n",
       "/* on hover */\n",
       "#sk-container-id-2 div.sk-estimator:hover {\n",
       "  /* unfitted */\n",
       "  background-color: var(--sklearn-color-unfitted-level-2);\n",
       "}\n",
       "\n",
       "#sk-container-id-2 div.sk-estimator.fitted:hover {\n",
       "  /* fitted */\n",
       "  background-color: var(--sklearn-color-fitted-level-2);\n",
       "}\n",
       "\n",
       "/* Specification for estimator info (e.g. \"i\" and \"?\") */\n",
       "\n",
       "/* Common style for \"i\" and \"?\" */\n",
       "\n",
       ".sk-estimator-doc-link,\n",
       "a:link.sk-estimator-doc-link,\n",
       "a:visited.sk-estimator-doc-link {\n",
       "  float: right;\n",
       "  font-size: smaller;\n",
       "  line-height: 1em;\n",
       "  font-family: monospace;\n",
       "  background-color: var(--sklearn-color-background);\n",
       "  border-radius: 1em;\n",
       "  height: 1em;\n",
       "  width: 1em;\n",
       "  text-decoration: none !important;\n",
       "  margin-left: 1ex;\n",
       "  /* unfitted */\n",
       "  border: var(--sklearn-color-unfitted-level-1) 1pt solid;\n",
       "  color: var(--sklearn-color-unfitted-level-1);\n",
       "}\n",
       "\n",
       ".sk-estimator-doc-link.fitted,\n",
       "a:link.sk-estimator-doc-link.fitted,\n",
       "a:visited.sk-estimator-doc-link.fitted {\n",
       "  /* fitted */\n",
       "  border: var(--sklearn-color-fitted-level-1) 1pt solid;\n",
       "  color: var(--sklearn-color-fitted-level-1);\n",
       "}\n",
       "\n",
       "/* On hover */\n",
       "div.sk-estimator:hover .sk-estimator-doc-link:hover,\n",
       ".sk-estimator-doc-link:hover,\n",
       "div.sk-label-container:hover .sk-estimator-doc-link:hover,\n",
       ".sk-estimator-doc-link:hover {\n",
       "  /* unfitted */\n",
       "  background-color: var(--sklearn-color-unfitted-level-3);\n",
       "  color: var(--sklearn-color-background);\n",
       "  text-decoration: none;\n",
       "}\n",
       "\n",
       "div.sk-estimator.fitted:hover .sk-estimator-doc-link.fitted:hover,\n",
       ".sk-estimator-doc-link.fitted:hover,\n",
       "div.sk-label-container:hover .sk-estimator-doc-link.fitted:hover,\n",
       ".sk-estimator-doc-link.fitted:hover {\n",
       "  /* fitted */\n",
       "  background-color: var(--sklearn-color-fitted-level-3);\n",
       "  color: var(--sklearn-color-background);\n",
       "  text-decoration: none;\n",
       "}\n",
       "\n",
       "/* Span, style for the box shown on hovering the info icon */\n",
       ".sk-estimator-doc-link span {\n",
       "  display: none;\n",
       "  z-index: 9999;\n",
       "  position: relative;\n",
       "  font-weight: normal;\n",
       "  right: .2ex;\n",
       "  padding: .5ex;\n",
       "  margin: .5ex;\n",
       "  width: min-content;\n",
       "  min-width: 20ex;\n",
       "  max-width: 50ex;\n",
       "  color: var(--sklearn-color-text);\n",
       "  box-shadow: 2pt 2pt 4pt #999;\n",
       "  /* unfitted */\n",
       "  background: var(--sklearn-color-unfitted-level-0);\n",
       "  border: .5pt solid var(--sklearn-color-unfitted-level-3);\n",
       "}\n",
       "\n",
       ".sk-estimator-doc-link.fitted span {\n",
       "  /* fitted */\n",
       "  background: var(--sklearn-color-fitted-level-0);\n",
       "  border: var(--sklearn-color-fitted-level-3);\n",
       "}\n",
       "\n",
       ".sk-estimator-doc-link:hover span {\n",
       "  display: block;\n",
       "}\n",
       "\n",
       "/* \"?\"-specific style due to the `<a>` HTML tag */\n",
       "\n",
       "#sk-container-id-2 a.estimator_doc_link {\n",
       "  float: right;\n",
       "  font-size: 1rem;\n",
       "  line-height: 1em;\n",
       "  font-family: monospace;\n",
       "  background-color: var(--sklearn-color-background);\n",
       "  border-radius: 1rem;\n",
       "  height: 1rem;\n",
       "  width: 1rem;\n",
       "  text-decoration: none;\n",
       "  /* unfitted */\n",
       "  color: var(--sklearn-color-unfitted-level-1);\n",
       "  border: var(--sklearn-color-unfitted-level-1) 1pt solid;\n",
       "}\n",
       "\n",
       "#sk-container-id-2 a.estimator_doc_link.fitted {\n",
       "  /* fitted */\n",
       "  border: var(--sklearn-color-fitted-level-1) 1pt solid;\n",
       "  color: var(--sklearn-color-fitted-level-1);\n",
       "}\n",
       "\n",
       "/* On hover */\n",
       "#sk-container-id-2 a.estimator_doc_link:hover {\n",
       "  /* unfitted */\n",
       "  background-color: var(--sklearn-color-unfitted-level-3);\n",
       "  color: var(--sklearn-color-background);\n",
       "  text-decoration: none;\n",
       "}\n",
       "\n",
       "#sk-container-id-2 a.estimator_doc_link.fitted:hover {\n",
       "  /* fitted */\n",
       "  background-color: var(--sklearn-color-fitted-level-3);\n",
       "}\n",
       "</style><div id=\"sk-container-id-2\" class=\"sk-top-container\"><div class=\"sk-text-repr-fallback\"><pre>XGBClassifier(base_score=None, booster=&#x27;gbtree&#x27;, callbacks=None,\n",
       "              colsample_bylevel=None, colsample_bynode=None, colsample_bytree=1,\n",
       "              device=None, early_stopping_rounds=None, enable_categorical=False,\n",
       "              eval_metric=&#x27;aucpr&#x27;, feature_types=None, gamma=1,\n",
       "              grow_policy=None, importance_type=None,\n",
       "              interaction_constraints=None, learning_rate=0.01, max_bin=None,\n",
       "              max_cat_threshold=None, max_cat_to_onehot=None,\n",
       "              max_delta_step=None, max_depth=3, max_leaves=None,\n",
       "              min_child_weight=None, missing=nan, monotone_constraints=None,\n",
       "              multi_strategy=None, n_estimators=None, n_jobs=None,\n",
       "              ne_estimators=100, num_parallel_tree=None, ...)</pre><b>In a Jupyter environment, please rerun this cell to show the HTML representation or trust the notebook. <br />On GitHub, the HTML representation is unable to render, please try loading this page with nbviewer.org.</b></div><div class=\"sk-container\" hidden><div class=\"sk-item\"><div class=\"sk-estimator fitted sk-toggleable\"><input class=\"sk-toggleable__control sk-hidden--visually\" id=\"sk-estimator-id-2\" type=\"checkbox\" checked><label for=\"sk-estimator-id-2\" class=\"sk-toggleable__label fitted sk-toggleable__label-arrow fitted\">&nbsp;XGBClassifier<span class=\"sk-estimator-doc-link fitted\">i<span>Fitted</span></span></label><div class=\"sk-toggleable__content fitted\"><pre>XGBClassifier(base_score=None, booster=&#x27;gbtree&#x27;, callbacks=None,\n",
       "              colsample_bylevel=None, colsample_bynode=None, colsample_bytree=1,\n",
       "              device=None, early_stopping_rounds=None, enable_categorical=False,\n",
       "              eval_metric=&#x27;aucpr&#x27;, feature_types=None, gamma=1,\n",
       "              grow_policy=None, importance_type=None,\n",
       "              interaction_constraints=None, learning_rate=0.01, max_bin=None,\n",
       "              max_cat_threshold=None, max_cat_to_onehot=None,\n",
       "              max_delta_step=None, max_depth=3, max_leaves=None,\n",
       "              min_child_weight=None, missing=nan, monotone_constraints=None,\n",
       "              multi_strategy=None, n_estimators=None, n_jobs=None,\n",
       "              ne_estimators=100, num_parallel_tree=None, ...)</pre></div> </div></div></div></div>"
      ],
      "text/plain": [
       "XGBClassifier(base_score=None, booster='gbtree', callbacks=None,\n",
       "              colsample_bylevel=None, colsample_bynode=None, colsample_bytree=1,\n",
       "              device=None, early_stopping_rounds=None, enable_categorical=False,\n",
       "              eval_metric='aucpr', feature_types=None, gamma=1,\n",
       "              grow_policy=None, importance_type=None,\n",
       "              interaction_constraints=None, learning_rate=0.01, max_bin=None,\n",
       "              max_cat_threshold=None, max_cat_to_onehot=None,\n",
       "              max_delta_step=None, max_depth=3, max_leaves=None,\n",
       "              min_child_weight=None, missing=nan, monotone_constraints=None,\n",
       "              multi_strategy=None, n_estimators=None, n_jobs=None,\n",
       "              ne_estimators=100, num_parallel_tree=None, ...)"
      ]
     },
     "execution_count": 27,
     "metadata": {},
     "output_type": "execute_result"
    }
   ],
   "source": [
    "# Fit model\n",
    "eval_set = [(X_train, y_train), (X_test, y_test)]\n",
    "classifier.fit(X_train, y_train, eval_set=eval_set, verbose=False)"
   ]
  },
  {
   "cell_type": "markdown",
   "metadata": {},
   "source": [
    "### Make Predictions"
   ]
  },
  {
   "cell_type": "code",
   "execution_count": 28,
   "metadata": {},
   "outputs": [
    {
     "name": "stdout",
     "output_type": "stream",
     "text": [
      "Training accuracy: 0.7037037037037037\n",
      "Training precision: 0.8583333333333333\n",
      "Training confusion matrix:\n",
      "[[961  17]\n",
      " [431 103]]\n"
     ]
    }
   ],
   "source": [
    "# Get predictions for training\n",
    "train_yhat = classifier.predict(X_train)\n",
    "train_yhat_prob = classifier.predict_proba(X_train)\n",
    "\n",
    "print(f\"Training accuracy: {accuracy_score(y_train, train_yhat)}\")\n",
    "print(f\"Training precision: {precision_score(y_train, train_yhat)}\")\n",
    "print(f\"Training confusion matrix:\\n{confusion_matrix(y_train, train_yhat)}\")"
   ]
  },
  {
   "cell_type": "code",
   "execution_count": 29,
   "metadata": {},
   "outputs": [
    {
     "name": "stdout",
     "output_type": "stream",
     "text": [
      "[[0.50659126 0.49340874]\n",
      " [0.42020023 0.5797998 ]\n",
      " [0.43048882 0.5695112 ]\n",
      " [0.43614113 0.56385887]\n",
      " [0.44786876 0.55213124]]\n"
     ]
    }
   ],
   "source": [
    "print(train_yhat_prob[:5])"
   ]
  },
  {
   "cell_type": "code",
   "execution_count": 30,
   "metadata": {},
   "outputs": [
    {
     "name": "stdout",
     "output_type": "stream",
     "text": [
      "Test accuracy: 0.6435185185185185\n",
      "Test precision: 0.6078431372549019\n",
      "Test confusion matrix:\n",
      "[[386  20]\n",
      " [211  31]]\n"
     ]
    }
   ],
   "source": [
    "# Get predictions for test\n",
    "test_yhat = classifier.predict(X_test)\n",
    "test_yhat_prob = classifier.predict_proba(X_test)\n",
    "\n",
    "print(f\"Test accuracy: {accuracy_score(y_test, test_yhat)}\")\n",
    "print(f\"Test precision: {precision_score(y_test, test_yhat)}\")\n",
    "print(f\"Test confusion matrix:\\n{confusion_matrix(y_test, test_yhat)}\")"
   ]
  },
  {
   "cell_type": "code",
   "execution_count": 31,
   "metadata": {},
   "outputs": [],
   "source": [
    "# Set K-fold cross-validation\n",
    "cv = RepeatedStratifiedKFold(n_splits=10, n_repeats=3, random_state=1)"
   ]
  },
  {
   "cell_type": "code",
   "execution_count": 32,
   "metadata": {},
   "outputs": [],
   "source": [
    "# Training results\n",
    "train_results = cross_val_score(classifier, X_train, y_train, cv=cv, scoring=scoring)"
   ]
  },
  {
   "cell_type": "markdown",
   "metadata": {},
   "source": [
    "### Evaluation Metrics - Loss and Overfitting"
   ]
  },
  {
   "cell_type": "code",
   "execution_count": 33,
   "metadata": {},
   "outputs": [],
   "source": [
    "# Retrieve performance metrics\n",
    "results = classifier.evals_result()\n",
    "epochs = len(results['validation_0'][eval_metric])\n",
    "x_axis = range(0, epochs)"
   ]
  },
  {
   "cell_type": "code",
   "execution_count": 34,
   "metadata": {},
   "outputs": [
    {
     "data": {
      "image/png": "[encoded data removed]",
      "text/plain": [
       "<Figure size 1000x500 with 1 Axes>"
      ]
     },
     "metadata": {},
     "output_type": "display_data"
    }
   ],
   "source": [
    "# Plot log loss\n",
    "fig = plt.figure(figsize=(10, 5))\n",
    "plt.plot(x_axis, results['validation_0'][eval_metric], label='Train')\n",
    "plt.plot(x_axis, results['validation_1'][eval_metric], label='Test')\n",
    "plt.legend()\n",
    "plt.ylabel(f\"{eval_metric}\")\n",
    "plt.title(f\"XGBoost {eval_metric}\")\n",
    "plt.show()"
   ]
  },
  {
   "cell_type": "markdown",
   "metadata": {},
   "source": [
    "### Performance Evaluation Comparison"
   ]
  },
  {
   "cell_type": "code",
   "execution_count": 35,
   "metadata": {},
   "outputs": [],
   "source": [
    "# Set K-Fold cross-validation levels\n",
    "cv = RepeatedStratifiedKFold(n_splits=10, n_repeats=3, random_state=1)"
   ]
  },
  {
   "cell_type": "code",
   "execution_count": 36,
   "metadata": {},
   "outputs": [],
   "source": [
    "# Training results\n",
    "train_results = cross_val_score(classifier, X_train, y_train, cv=cv, scoring=scoring, n_jobs=-1)\n",
    "test_results = cross_val_score(classifier, X_test, y_test, cv=cv, scoring=scoring, n_jobs=-1)"
   ]
  },
  {
   "cell_type": "code",
   "execution_count": 38,
   "metadata": {},
   "outputs": [
    {
     "name": "stdout",
     "output_type": "stream",
     "text": [
      "Train: \n",
      "Mean: 0.7208577828546868\n",
      "Standard deviation: 0.13863400741070514\n",
      "Precision score:  0.6078431372549019\n",
      "Test: \n",
      "Mean: 0.510978835978836\n",
      "Standard deviation: 0.23565193297594467\n",
      "Precision score:  0.6078431372549019\n"
     ]
    }
   ],
   "source": [
    "# Comparison of results\n",
    "print(\"Train: \")\n",
    "print(f\"Mean: {train_results.mean()}\")\n",
    "print(f\"Standard deviation: {train_results.std()}\")\n",
    "print(\"Precision score: \", precision_score(y_test, test_yhat))\n",
    "print(\"Test: \")\n",
    "print(f\"Mean: {test_results.mean()}\")\n",
    "print(f\"Standard deviation: {test_results.std()}\")\n",
    "print(\"Precision score: \", precision_score(y_test, test_yhat))"
   ]
  },
  {
   "cell_type": "markdown",
   "metadata": {},
   "source": [
    "### Evaluation Metrics - Summary Report"
   ]
  },
  {
   "cell_type": "code",
   "execution_count": 39,
   "metadata": {},
   "outputs": [
    {
     "name": "stdout",
     "output_type": "stream",
     "text": [
      "              precision    recall  f1-score   support\n",
      "\n",
      "         0.0       0.69      0.98      0.81       978\n",
      "         1.0       0.86      0.19      0.31       534\n",
      "\n",
      "    accuracy                           0.70      1512\n",
      "   macro avg       0.77      0.59      0.56      1512\n",
      "weighted avg       0.75      0.70      0.64      1512\n",
      "\n"
     ]
    }
   ],
   "source": [
    "# Show summary report - training \n",
    "print(classification_report(y_train, train_yhat))"
   ]
  },
  {
   "cell_type": "code",
   "execution_count": 40,
   "metadata": {},
   "outputs": [
    {
     "name": "stdout",
     "output_type": "stream",
     "text": [
      "              precision    recall  f1-score   support\n",
      "\n",
      "         0.0       0.65      0.95      0.77       406\n",
      "         1.0       0.61      0.13      0.21       242\n",
      "\n",
      "    accuracy                           0.64       648\n",
      "   macro avg       0.63      0.54      0.49       648\n",
      "weighted avg       0.63      0.64      0.56       648\n",
      "\n"
     ]
    }
   ],
   "source": [
    "# Show summary report - test\n",
    "print(classification_report(y_test, test_yhat))"
   ]
  },
  {
   "cell_type": "markdown",
   "metadata": {},
   "source": [
    "### Performance Evaluation - Confusion Matrix"
   ]
  },
  {
   "cell_type": "code",
   "execution_count": 44,
   "metadata": {},
   "outputs": [
    {
     "data": {
      "text/plain": [
       "<sklearn.metrics._plot.confusion_matrix.ConfusionMatrixDisplay at 0x1dd4d151850>"
      ]
     },
     "execution_count": 44,
     "metadata": {},
     "output_type": "execute_result"
    },
    {
     "data": {
      "image/png": "[encoded data removed]",
      "text/plain": [
       "<Figure size 640x480 with 2 Axes>"
      ]
     },
     "metadata": {},
     "output_type": "display_data"
    }
   ],
   "source": [
    "# Training confusion matrix\n",
    "cm = confusion_matrix(y_train, train_yhat)\n",
    "ConfusionMatrixDisplay(confusion_matrix=cm, display_labels=classifier.classes_).plot()"
   ]
  },
  {
   "cell_type": "code",
   "execution_count": 45,
   "metadata": {},
   "outputs": [
    {
     "data": {
      "text/plain": [
       "<sklearn.metrics._plot.confusion_matrix.ConfusionMatrixDisplay at 0x1dd4fbe1670>"
      ]
     },
     "execution_count": 45,
     "metadata": {},
     "output_type": "execute_result"
    },
    {
     "data": {
      "image/png": "[encoded data removed]",
      "text/plain": [
       "<Figure size 640x480 with 2 Axes>"
      ]
     },
     "metadata": {},
     "output_type": "display_data"
    }
   ],
   "source": [
    "# Test confusion matrix\n",
    "cm = confusion_matrix(y_test, test_yhat)\n",
    "ConfusionMatrixDisplay(confusion_matrix=cm, display_labels=classifier.classes_).plot()"
   ]
  },
  {
   "cell_type": "markdown",
   "metadata": {},
   "source": [
    "### Feature Importance"
   ]
  },
  {
   "cell_type": "code",
   "execution_count": 49,
   "metadata": {},
   "outputs": [
    {
     "data": {
      "image/png": "[encoded data removed]",
      "text/plain": [
       "<Figure size 1000x500 with 1 Axes>"
      ]
     },
     "metadata": {},
     "output_type": "display_data"
    }
   ],
   "source": [
    "# Plot feature importances\n",
    "fig = plt.figure(figsize=(10, 5))\n",
    "importance_labels = X.columns\n",
    "importance_values = classifier.feature_importances_\n",
    "plt.bar([x for x in range(len(importance_values))], importance_values)\n",
    "plt.xticks(ticks=[x for x in range(len(importance_values))], labels=importance_labels, rotation=90)\n",
    "plt.show()"
   ]
  },
  {
   "cell_type": "code",
   "execution_count": null,
   "metadata": {},
   "outputs": [],
   "source": []
  }
 ],
 "metadata": {
  "kernelspec": {
   "display_name": "base",
   "language": "python",
   "name": "python3"
  },
  "language_info": {
   "codemirror_mode": {
    "name": "ipython",
    "version": 3
   },
   "file_extension": ".py",
   "mimetype": "text/x-python",
   "name": "python",
   "nbconvert_exporter": "python",
   "pygments_lexer": "ipython3",
   "version": "3.12.7"
  }
 },
 "nbformat": 4,
 "nbformat_minor": 2
}
